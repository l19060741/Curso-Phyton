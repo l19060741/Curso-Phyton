{
  "cells": [
    {
      "cell_type": "markdown",
      "metadata": {
        "id": "view-in-github",
        "colab_type": "text"
      },
      "source": [
        "<a href=\"https://colab.research.google.com/github/l19060741/Curso-Phyton/blob/main/Anahi_Gonzalez_1_Numpy_Introducci%C3%B3n.ipynb\" target=\"_parent\"><img src=\"https://colab.research.google.com/assets/colab-badge.svg\" alt=\"Open In Colab\"/></a>"
      ]
    },
    {
      "cell_type": "markdown",
      "metadata": {
        "id": "I86Kr1SMegjR"
      },
      "source": [
        "# Biblioteca Numpy"
      ]
    },
    {
      "cell_type": "markdown",
      "metadata": {
        "id": "MXBvGwoEegja"
      },
      "source": [
        "## Los datos en la Ciencia de datos"
      ]
    },
    {
      "cell_type": "markdown",
      "metadata": {
        "id": "WvwennURegjb"
      },
      "source": [
        "Los datos pueden provenir de diferentes fuentes y tener diferentes formatos, por ejemplo podemos tener colecciones de documentos, de imagenes, de sonidos, de mediciones o de casi cualquier cosa.\n",
        "\n",
        "A pesar de su heterogeneidad, podemos pensar en los datos como un arreglo de números"
      ]
    },
    {
      "cell_type": "markdown",
      "metadata": {
        "id": "gKdVpUUZegjc"
      },
      "source": [
        "Por ejemplo, podemos representar **imágenes digitales** como un arreglo bidimensional de números que representan la intensidad de cada pixel."
      ]
    },
    {
      "cell_type": "markdown",
      "metadata": {
        "id": "Ij-M0wzPegjd"
      },
      "source": [
        "Del mismo modo, podemos representar **segmentos de sonido** como arreglaos unidimensionales que representan la intensidad a través del tiempo."
      ]
    },
    {
      "cell_type": "markdown",
      "metadata": {
        "id": "l7R6aNrfegjd"
      },
      "source": [
        "Incluso, podemos convertir el **texto** a representaciones numéricas, por ejemplo vectores que indican la frecuencia de ciertas palabras."
      ]
    },
    {
      "cell_type": "markdown",
      "metadata": {
        "id": "uE28RqZ2egje"
      },
      "source": [
        "En general, no importa el tipo de dato que tengamos, el primer paso para poder analizarla es transformarla a arreglos de números."
      ]
    },
    {
      "cell_type": "markdown",
      "metadata": {
        "id": "8WrmGatCegjf"
      },
      "source": [
        "## Herramienta para manipular arreglos de datos"
      ]
    },
    {
      "cell_type": "markdown",
      "metadata": {
        "id": "Cu9IGStIegjg"
      },
      "source": [
        "Por este motivo, el almacenamiento y manipulación de arreglos numéricos es fundamental en el proceso de hacer ciencia de datos. \n",
        "\n",
        "Python tiene paquetes especializadas que nos ayudan a manipular tales datos: Numpy y Pandas."
      ]
    },
    {
      "cell_type": "markdown",
      "metadata": {
        "id": "CIWIxjhVegjh"
      },
      "source": [
        "Numpy viene de *Numerical Python* y provee una interface eficiente para almacenar y operar buffers densos de datos."
      ]
    },
    {
      "cell_type": "markdown",
      "metadata": {
        "id": "HQ6WTUPSegji"
      },
      "source": [
        "En cierta forma, Numpy es como el tipo `lista` de Python, sin embargo, brinda almacenamiento y operaciones más eficientes en datos más grandes. Los arreglos de Numpy forman parte del ecosistema base de las herramientas de ciencia de datos en Python."
      ]
    },
    {
      "cell_type": "markdown",
      "metadata": {
        "id": "OJLz-iRjegjj"
      },
      "source": [
        "## Comparación entre Numpy y lista"
      ]
    },
    {
      "cell_type": "markdown",
      "metadata": {
        "id": "jEr_ftBUegjm"
      },
      "source": [
        "Las listas en Python brindan flexibilidad, ya que una lista puede contener datos de diferente tipo (numéricos, cadenas,etc.), sin embargo, esta flexibilidad trae consigo un costo, ya que cada elemento de la lista es un objeto. Si toda la información va a ser de un mismo tipo, entonces una lista tendría información redundante y conviene almacenarla en un arreglo de tipo de dato fijo.\n",
        "\n",
        "Un arreglo de Numpy contiene solo un puntero a un bloque continuo de datos, mientras que la lista contiene un puntero a un bloque de punteros, en donde cada uno apunta a un objeto de Python (ver siguiente Figura).\n"
      ]
    },
    {
      "cell_type": "markdown",
      "metadata": {
        "id": "95hlIjIoegjn"
      },
      "source": [
        "![image](Imagenes/1.Numpy/1-NumpyvsList.png)"
      ]
    },
    {
      "cell_type": "markdown",
      "metadata": {
        "id": "4d2m5EN7egjp"
      },
      "source": [
        "## Instalar Numpy"
      ]
    },
    {
      "cell_type": "code",
      "execution_count": null,
      "metadata": {
        "id": "k67R3Y1Zegjq"
      },
      "outputs": [],
      "source": []
    },
    {
      "cell_type": "markdown",
      "metadata": {
        "id": "xIVNdf5gegjs"
      },
      "source": [
        "## Información sobre Numpy"
      ]
    },
    {
      "cell_type": "markdown",
      "metadata": {
        "id": "tB8FACTnegjt"
      },
      "source": [
        "Importar y conocer la versión con la que estamos trabajando"
      ]
    },
    {
      "cell_type": "code",
      "execution_count": null,
      "metadata": {
        "id": "kLPA2lSqegju",
        "colab": {
          "base_uri": "https://localhost:8080/",
          "height": 35
        },
        "outputId": "85f9e0fb-9db5-4c9a-a220-f843d0d8a57c"
      },
      "outputs": [
        {
          "output_type": "execute_result",
          "data": {
            "text/plain": [
              "'1.21.6'"
            ],
            "application/vnd.google.colaboratory.intrinsic+json": {
              "type": "string"
            }
          },
          "metadata": {},
          "execution_count": 2
        }
      ],
      "source": [
        "#import numpy \n",
        "# Es práctica común nombrarla con el alias np\n",
        "import numpy as np \n",
        "np.__version__"
      ]
    },
    {
      "cell_type": "markdown",
      "metadata": {
        "id": "R9y3SlRgegjv"
      },
      "source": [
        "Pedir ayuda sobre numpy"
      ]
    },
    {
      "cell_type": "code",
      "execution_count": null,
      "metadata": {
        "id": "ZvD8ywTAegjv"
      },
      "outputs": [],
      "source": [
        "np?"
      ]
    },
    {
      "cell_type": "markdown",
      "metadata": {
        "id": "JY98aTI5egjw"
      },
      "source": [
        "## Primeros pasos con Numpy"
      ]
    },
    {
      "cell_type": "markdown",
      "metadata": {
        "id": "jp465kjYegjx"
      },
      "source": [
        "### Crear arreglos numpy con listas de Python"
      ]
    },
    {
      "cell_type": "code",
      "execution_count": null,
      "metadata": {
        "id": "ssQ9VhNHegjz",
        "colab": {
          "base_uri": "https://localhost:8080/"
        },
        "outputId": "eb878728-d3f7-4150-fe33-25de0d3a5960"
      },
      "outputs": [
        {
          "output_type": "execute_result",
          "data": {
            "text/plain": [
              "array([1, 5, 3, 6, 2, 7, 4])"
            ]
          },
          "metadata": {},
          "execution_count": 3
        }
      ],
      "source": [
        "np.array([1,5,3,6,2,7,4])"
      ]
    },
    {
      "cell_type": "code",
      "execution_count": null,
      "metadata": {
        "id": "zklim20jegjz",
        "colab": {
          "base_uri": "https://localhost:8080/"
        },
        "outputId": "8d9c428f-635f-43b6-b7a5-801fa94cb654"
      },
      "outputs": [
        {
          "output_type": "execute_result",
          "data": {
            "text/plain": [
              "array([1.  , 2.07, 3.  , 4.  , 5.  ])"
            ]
          },
          "metadata": {},
          "execution_count": 4
        }
      ],
      "source": [
        "\"\"\"Los arreglos deben tener el mismo tipo de dato, en caso contrario, \n",
        "   Numpy hará un casting si es posible (en este ejemplo se castean enteros a flotantes)\"\"\"\n",
        "np.array([1,2.07,3,4,5])"
      ]
    },
    {
      "cell_type": "code",
      "execution_count": null,
      "metadata": {
        "id": "my9_4PoWegj0",
        "colab": {
          "base_uri": "https://localhost:8080/"
        },
        "outputId": "839e66c2-77a7-4029-b649-6c1fb615a82f"
      },
      "outputs": [
        {
          "output_type": "execute_result",
          "data": {
            "text/plain": [
              "array([1., 5., 3., 6., 2., 7., 4.], dtype=float32)"
            ]
          },
          "metadata": {},
          "execution_count": 5
        }
      ],
      "source": [
        "#Podemos indicar explicitamente el tipo de dato que requerimos usando la palabra dtype\n",
        "np.array([1,5,3,6,2,7,4], dtype='float32')"
      ]
    },
    {
      "cell_type": "code",
      "execution_count": null,
      "metadata": {
        "id": "R_h1gE7negj0",
        "colab": {
          "base_uri": "https://localhost:8080/"
        },
        "outputId": "9b70818a-7407-4e5e-98e9-d31a6f53638f"
      },
      "outputs": [
        {
          "output_type": "execute_result",
          "data": {
            "text/plain": [
              "array([[1, 2, 3],\n",
              "       [4, 5, 6],\n",
              "       [7, 8, 9]])"
            ]
          },
          "metadata": {},
          "execution_count": 6
        }
      ],
      "source": [
        "#Los arreglos pueden ser multidimensionales\"\n",
        "np.array([[1,2,3],[4,5,6],[7,8,9]])"
      ]
    },
    {
      "cell_type": "markdown",
      "metadata": {
        "id": "WWvF0LW-egj1"
      },
      "source": [
        "### Crear arreglos a partir de listas ya definidas"
      ]
    },
    {
      "cell_type": "code",
      "execution_count": null,
      "metadata": {
        "id": "UXwzOkhaegj2"
      },
      "outputs": [],
      "source": [
        "my_list = [1,2,4,2]"
      ]
    },
    {
      "cell_type": "code",
      "execution_count": null,
      "metadata": {
        "id": "bTev1KmWegj2",
        "colab": {
          "base_uri": "https://localhost:8080/"
        },
        "outputId": "b8404c8a-d4a3-4eec-ef83-06f2a278a7c4"
      },
      "outputs": [
        {
          "output_type": "execute_result",
          "data": {
            "text/plain": [
              "array([1, 2, 4, 2])"
            ]
          },
          "metadata": {},
          "execution_count": 11
        }
      ],
      "source": [
        "np.array(my_list)"
      ]
    },
    {
      "cell_type": "code",
      "execution_count": null,
      "metadata": {
        "id": "azg-tAVnegj3",
        "colab": {
          "base_uri": "https://localhost:8080/"
        },
        "outputId": "a28a8056-c6c6-4139-92a2-869095df8921"
      },
      "outputs": [
        {
          "output_type": "execute_result",
          "data": {
            "text/plain": [
              "array([[9, 8, 7],\n",
              "       [6, 5, 4],\n",
              "       [3, 2, 1]])"
            ]
          },
          "metadata": {},
          "execution_count": 12
        }
      ],
      "source": [
        "my_matrix=[[9,8,7],[6,5,4],[3,2,1]]\n",
        "np.array(my_matrix)"
      ]
    },
    {
      "cell_type": "markdown",
      "metadata": {
        "id": "AU0ULjLmegj3"
      },
      "source": [
        "## Crear arreglos con métodos Built-in"
      ]
    },
    {
      "cell_type": "markdown",
      "metadata": {
        "id": "sV6p_BIAegj3"
      },
      "source": [
        "Especialmene para arreglos grandes, es más eficiente crear arreglos desde cero usando rutinas ya construidas en la biblioteca Numpy."
      ]
    },
    {
      "cell_type": "markdown",
      "metadata": {
        "id": "XVj101GNegj4"
      },
      "source": [
        "### arange\n",
        "Regresa valores espaciados por un valor de paso \"step\" desde el inicio hasta el final indicado\n",
        "\n",
        "(inicio,final,step)"
      ]
    },
    {
      "cell_type": "code",
      "execution_count": null,
      "metadata": {
        "id": "5RhC-cL8egj5",
        "colab": {
          "base_uri": "https://localhost:8080/"
        },
        "outputId": "09d360b7-c8f2-45ac-a363-531ca1252fb5"
      },
      "outputs": [
        {
          "output_type": "execute_result",
          "data": {
            "text/plain": [
              "array([0, 1, 2, 3, 4, 5, 6, 7, 8, 9])"
            ]
          },
          "metadata": {},
          "execution_count": 36
        }
      ],
      "source": [
        "np.arange(0,10)"
      ]
    },
    {
      "cell_type": "code",
      "execution_count": null,
      "metadata": {
        "id": "LZOn_12Legj7",
        "colab": {
          "base_uri": "https://localhost:8080/"
        },
        "outputId": "e9df1b3a-055d-472f-df0f-5cd7281640c8"
      },
      "outputs": [
        {
          "output_type": "execute_result",
          "data": {
            "text/plain": [
              "array([0, 3, 6, 9])"
            ]
          },
          "metadata": {},
          "execution_count": 37
        }
      ],
      "source": [
        "np.arange(0,10,3)"
      ]
    },
    {
      "cell_type": "code",
      "execution_count": null,
      "metadata": {
        "id": "XE20vaX4egj7",
        "colab": {
          "base_uri": "https://localhost:8080/"
        },
        "outputId": "05169505-fabc-43d2-9fa8-a27e18a33e90"
      },
      "outputs": [
        {
          "output_type": "execute_result",
          "data": {
            "text/plain": [
              "array([-5, -3, -1,  1,  3])"
            ]
          },
          "metadata": {},
          "execution_count": 38
        }
      ],
      "source": [
        "np.arange(-5,5,2)"
      ]
    },
    {
      "cell_type": "markdown",
      "metadata": {
        "id": "riwoWfryegj-"
      },
      "source": [
        "### linspace\n",
        "Regresa una cantidad de valores espaciados (num) sobre un intervalo específico"
      ]
    },
    {
      "cell_type": "code",
      "execution_count": null,
      "metadata": {
        "id": "6ww8TTcTegj_",
        "colab": {
          "base_uri": "https://localhost:8080/"
        },
        "outputId": "81c654fd-7540-4a28-f2d9-66a4c6c228d3"
      },
      "outputs": [
        {
          "output_type": "execute_result",
          "data": {
            "text/plain": [
              "array([ 0.        ,  0.20408163,  0.40816327,  0.6122449 ,  0.81632653,\n",
              "        1.02040816,  1.2244898 ,  1.42857143,  1.63265306,  1.83673469,\n",
              "        2.04081633,  2.24489796,  2.44897959,  2.65306122,  2.85714286,\n",
              "        3.06122449,  3.26530612,  3.46938776,  3.67346939,  3.87755102,\n",
              "        4.08163265,  4.28571429,  4.48979592,  4.69387755,  4.89795918,\n",
              "        5.10204082,  5.30612245,  5.51020408,  5.71428571,  5.91836735,\n",
              "        6.12244898,  6.32653061,  6.53061224,  6.73469388,  6.93877551,\n",
              "        7.14285714,  7.34693878,  7.55102041,  7.75510204,  7.95918367,\n",
              "        8.16326531,  8.36734694,  8.57142857,  8.7755102 ,  8.97959184,\n",
              "        9.18367347,  9.3877551 ,  9.59183673,  9.79591837, 10.        ])"
            ]
          },
          "metadata": {},
          "execution_count": 39
        }
      ],
      "source": [
        "np.linspace(0,10)  #num = 50 (default)"
      ]
    },
    {
      "cell_type": "code",
      "execution_count": null,
      "metadata": {
        "id": "Lyp3UXVjegkA",
        "colab": {
          "base_uri": "https://localhost:8080/"
        },
        "outputId": "20617e00-3833-4406-b6e8-a5bc551e4f14"
      },
      "outputs": [
        {
          "output_type": "execute_result",
          "data": {
            "text/plain": [
              "array([ 0.,  1.,  2.,  3.,  4.,  5.,  6.,  7.,  8.,  9., 10.])"
            ]
          },
          "metadata": {},
          "execution_count": 42
        }
      ],
      "source": [
        "np.linspace(0,10,11)"
      ]
    },
    {
      "cell_type": "code",
      "execution_count": null,
      "metadata": {
        "id": "DnxmMEb7egkA",
        "colab": {
          "base_uri": "https://localhost:8080/"
        },
        "outputId": "63c8e085-b657-4118-ca3e-4af4ee5a1e41"
      },
      "outputs": [
        {
          "output_type": "execute_result",
          "data": {
            "text/plain": [
              "array([-5., -4., -3., -2., -1.,  0.,  1.,  2.,  3.,  4.,  5.])"
            ]
          },
          "metadata": {},
          "execution_count": 41
        }
      ],
      "source": [
        "np.linspace(-5,5,11)"
      ]
    },
    {
      "cell_type": "markdown",
      "metadata": {
        "id": "mCtAEqgOegkA"
      },
      "source": [
        "### Zeros\n",
        "Crea un arreglo lleno con ceros"
      ]
    },
    {
      "cell_type": "code",
      "execution_count": null,
      "metadata": {
        "id": "-bzu0rK8egkC",
        "colab": {
          "base_uri": "https://localhost:8080/"
        },
        "outputId": "7e5b8ce2-68e6-471a-b5a3-b886fa55cc34"
      },
      "outputs": [
        {
          "output_type": "execute_result",
          "data": {
            "text/plain": [
              "array([0., 0., 0., 0., 0., 0., 0., 0., 0., 0.])"
            ]
          },
          "metadata": {},
          "execution_count": 43
        }
      ],
      "source": [
        "np.zeros(10)"
      ]
    },
    {
      "cell_type": "code",
      "execution_count": null,
      "metadata": {
        "id": "0-uHm-mregkD",
        "colab": {
          "base_uri": "https://localhost:8080/"
        },
        "outputId": "20252518-2747-4060-c1ce-8b7acd3db9e2"
      },
      "outputs": [
        {
          "output_type": "execute_result",
          "data": {
            "text/plain": [
              "array([[0., 0., 0.],\n",
              "       [0., 0., 0.]])"
            ]
          },
          "metadata": {},
          "execution_count": 44
        }
      ],
      "source": [
        "np.zeros((2,3))"
      ]
    },
    {
      "cell_type": "code",
      "execution_count": null,
      "metadata": {
        "id": "BlQ6gn2CegkD",
        "colab": {
          "base_uri": "https://localhost:8080/"
        },
        "outputId": "ec527c0b-3d3a-491f-ca33-77e2c158a34d"
      },
      "outputs": [
        {
          "output_type": "execute_result",
          "data": {
            "text/plain": [
              "array([[0, 0, 0, 0],\n",
              "       [0, 0, 0, 0],\n",
              "       [0, 0, 0, 0]])"
            ]
          },
          "metadata": {},
          "execution_count": 45
        }
      ],
      "source": [
        "np.zeros((3,4),dtype=int)"
      ]
    },
    {
      "cell_type": "markdown",
      "metadata": {
        "id": "Zrpn_H63egkD"
      },
      "source": [
        "### Ones\n",
        "Crea un arreglo lleno con unos"
      ]
    },
    {
      "cell_type": "code",
      "execution_count": null,
      "metadata": {
        "id": "DQNLvoMLegkE",
        "colab": {
          "base_uri": "https://localhost:8080/"
        },
        "outputId": "e11e1bdc-dcbd-49c8-b992-a07eadc95eae"
      },
      "outputs": [
        {
          "output_type": "execute_result",
          "data": {
            "text/plain": [
              "array([1., 1., 1., 1., 1.])"
            ]
          },
          "metadata": {},
          "execution_count": 46
        }
      ],
      "source": [
        "np.ones(5)"
      ]
    },
    {
      "cell_type": "code",
      "execution_count": null,
      "metadata": {
        "id": "MfM6LIQ8egkE",
        "colab": {
          "base_uri": "https://localhost:8080/"
        },
        "outputId": "d858d76a-00a2-4162-c0ab-2bcb55b28f1e"
      },
      "outputs": [
        {
          "output_type": "execute_result",
          "data": {
            "text/plain": [
              "array([[1., 1., 1.],\n",
              "       [1., 1., 1.],\n",
              "       [1., 1., 1.]])"
            ]
          },
          "metadata": {},
          "execution_count": 47
        }
      ],
      "source": [
        "np.ones((3,3),dtype=float)"
      ]
    },
    {
      "cell_type": "markdown",
      "metadata": {
        "id": "RcNbg1k8egkL"
      },
      "source": [
        "### Full\n",
        "Regresa un arreglo lleno con el valor indicado"
      ]
    },
    {
      "cell_type": "code",
      "execution_count": 70,
      "metadata": {
        "id": "ZJr8gMkvegkO",
        "colab": {
          "base_uri": "https://localhost:8080/"
        },
        "outputId": "df5fc72d-1742-4233-e69c-4d13ab28501b"
      },
      "outputs": [
        {
          "output_type": "execute_result",
          "data": {
            "text/plain": [
              "array([[3.14159265, 3.14159265]])"
            ]
          },
          "metadata": {},
          "execution_count": 70
        }
      ],
      "source": [
        "import math\n",
        "np.full((1,2),math.pi)"
      ]
    },
    {
      "cell_type": "code",
      "execution_count": 71,
      "metadata": {
        "id": "53GurPV0egkQ",
        "colab": {
          "base_uri": "https://localhost:8080/"
        },
        "outputId": "d78b1e7b-b762-45ac-ef71-aa6360887b32"
      },
      "outputs": [
        {
          "output_type": "execute_result",
          "data": {
            "text/plain": [
              "array([[7, 7, 7, 7, 7],\n",
              "       [7, 7, 7, 7, 7],\n",
              "       [7, 7, 7, 7, 7]])"
            ]
          },
          "metadata": {},
          "execution_count": 71
        }
      ],
      "source": [
        "np.full((3,5),7)"
      ]
    },
    {
      "cell_type": "markdown",
      "metadata": {
        "id": "o72G21e-egkQ"
      },
      "source": [
        "### eye\n",
        "Crea una matriz identidad del tamaño especificado"
      ]
    },
    {
      "cell_type": "code",
      "execution_count": 73,
      "metadata": {
        "id": "f59vmgQBegkR",
        "colab": {
          "base_uri": "https://localhost:8080/"
        },
        "outputId": "55cf4a76-e6d7-4037-83ea-6a97b23cbab7"
      },
      "outputs": [
        {
          "output_type": "execute_result",
          "data": {
            "text/plain": [
              "array([[6., 0., 0., 0., 0.],\n",
              "       [0., 6., 0., 0., 0.],\n",
              "       [0., 0., 6., 0., 0.],\n",
              "       [0., 0., 0., 6., 0.],\n",
              "       [0., 0., 0., 0., 6.]])"
            ]
          },
          "metadata": {},
          "execution_count": 73
        }
      ],
      "source": [
        "np.eye(5)*6"
      ]
    },
    {
      "cell_type": "markdown",
      "metadata": {
        "id": "qQbY-kiBegkT"
      },
      "source": [
        "### Random\n",
        "En Numpy hay varias formas de crear números aleatorios:\n",
        "\n",
        "- **rand**. Crea un arreglo poblado con muestras aleatorias que provienen de una distribución uniforme [0,1)\n",
        "\n",
        "- **randn**. Crea un arreglo poblado con muestras aleatorias que provienen de una distribución normal con media 0 y desviación estándar 1\n",
        "\n",
        "- **randint**. Crea un arreglo poblado con enteros aleatorios que provienen de un intervalo dado [low,high)"
      ]
    },
    {
      "cell_type": "code",
      "execution_count": null,
      "metadata": {
        "id": "6OLCTrjNegkT"
      },
      "outputs": [],
      "source": [
        "'''se usa para establecer la semilla para el algoritmo generador\n",
        "de números pseudoaleatorios en Python'''\n",
        "np.random.seed(0)"
      ]
    },
    {
      "cell_type": "code",
      "execution_count": 74,
      "metadata": {
        "id": "w_13q6--egkU",
        "colab": {
          "base_uri": "https://localhost:8080/"
        },
        "outputId": "40659e6d-fe64-4d54-d1f0-9d0a2794ce73"
      },
      "outputs": [
        {
          "output_type": "execute_result",
          "data": {
            "text/plain": [
              "array([0.3927848 , 0.83607876, 0.33739616, 0.64817187])"
            ]
          },
          "metadata": {},
          "execution_count": 74
        }
      ],
      "source": [
        "np.random.rand(4)"
      ]
    },
    {
      "cell_type": "code",
      "execution_count": null,
      "metadata": {
        "id": "c6vazf8KegkU",
        "colab": {
          "base_uri": "https://localhost:8080/"
        },
        "outputId": "7b671f5d-8c47-403b-b584-872329886e85"
      },
      "outputs": [
        {
          "output_type": "execute_result",
          "data": {
            "text/plain": [
              "array([[0.4236548 , 0.64589411],\n",
              "       [0.43758721, 0.891773  ]])"
            ]
          },
          "metadata": {},
          "execution_count": 29
        }
      ],
      "source": [
        "np.random.rand(2,2)"
      ]
    },
    {
      "cell_type": "code",
      "execution_count": null,
      "metadata": {
        "id": "snGeQ-OQegkU",
        "colab": {
          "base_uri": "https://localhost:8080/"
        },
        "outputId": "39246339-2795-474d-d98f-f71e7d8feda3"
      },
      "outputs": [
        {
          "output_type": "execute_result",
          "data": {
            "text/plain": [
              "array([ 1.86755799, -0.97727788,  0.95008842, -0.15135721])"
            ]
          },
          "metadata": {},
          "execution_count": 58
        }
      ],
      "source": [
        "np.random.randn(4)"
      ]
    },
    {
      "cell_type": "code",
      "execution_count": null,
      "metadata": {
        "id": "5S4vzaBaegkW",
        "colab": {
          "base_uri": "https://localhost:8080/"
        },
        "outputId": "bcb74ce2-ef3a-4bce-9cce-f9b150d7369d"
      },
      "outputs": [
        {
          "output_type": "execute_result",
          "data": {
            "text/plain": [
              "array([[0.76103773, 0.12167502],\n",
              "       [0.44386323, 0.33367433]])"
            ]
          },
          "metadata": {},
          "execution_count": 31
        }
      ],
      "source": [
        "np.random.randn(2,2)"
      ]
    },
    {
      "cell_type": "code",
      "execution_count": null,
      "metadata": {
        "id": "UXdW6h_Hegkf",
        "colab": {
          "base_uri": "https://localhost:8080/"
        },
        "outputId": "3f04dedd-e520-4152-fabf-215d2de66e72"
      },
      "outputs": [
        {
          "output_type": "execute_result",
          "data": {
            "text/plain": [
              "1"
            ]
          },
          "metadata": {},
          "execution_count": 67
        }
      ],
      "source": [
        "np.random.randint(1,5)"
      ]
    },
    {
      "cell_type": "code",
      "execution_count": null,
      "metadata": {
        "id": "xppDShUZegkg",
        "colab": {
          "base_uri": "https://localhost:8080/"
        },
        "outputId": "483e8627-d24d-437f-a21d-60a95fea3cec"
      },
      "outputs": [
        {
          "output_type": "execute_result",
          "data": {
            "text/plain": [
              "array([ 4,  9,  2,  4, 14,  4,  4,  8,  1,  2])"
            ]
          },
          "metadata": {},
          "execution_count": 33
        }
      ],
      "source": [
        "np.random.randint(1,15,10)"
      ]
    },
    {
      "cell_type": "code",
      "execution_count": null,
      "metadata": {
        "id": "klcp9_sZegkg",
        "colab": {
          "base_uri": "https://localhost:8080/"
        },
        "outputId": "764b7e0e-471c-4b13-aba1-2613f616c13f"
      },
      "outputs": [
        {
          "output_type": "execute_result",
          "data": {
            "text/plain": [
              "array([[10, 10,  1, 11],\n",
              "       [ 5,  8,  4, 12],\n",
              "       [ 3,  8,  3,  1]])"
            ]
          },
          "metadata": {},
          "execution_count": 34
        }
      ],
      "source": [
        "np.random.randint(1,13,size=(3,4))"
      ]
    },
    {
      "cell_type": "code",
      "execution_count": null,
      "metadata": {
        "id": "zqWxADPuegkg",
        "colab": {
          "base_uri": "https://localhost:8080/"
        },
        "outputId": "40da8f24-1a17-434f-f442-8a1b9fb95781"
      },
      "outputs": [
        {
          "output_type": "execute_result",
          "data": {
            "text/plain": [
              "array([[[1, 1, 2, 2, 3],\n",
              "        [1, 1, 2, 1, 2],\n",
              "        [3, 3, 1, 2, 2],\n",
              "        [2, 2, 3, 3, 3]],\n",
              "\n",
              "       [[1, 3, 2, 1, 2],\n",
              "        [3, 1, 1, 3, 1],\n",
              "        [1, 1, 1, 1, 1],\n",
              "        [3, 1, 3, 2, 2]],\n",
              "\n",
              "       [[2, 1, 2, 2, 2],\n",
              "        [1, 2, 3, 1, 2],\n",
              "        [3, 1, 3, 1, 2],\n",
              "        [3, 3, 2, 1, 2]]])"
            ]
          },
          "metadata": {},
          "execution_count": 35
        }
      ],
      "source": [
        "np.random.randint(1,4,size=(3,4,5))"
      ]
    },
    {
      "cell_type": "markdown",
      "metadata": {
        "id": "OioYBC5Iegkh"
      },
      "source": [
        "## Atributos de arreglos Numpy\n",
        "Para conocer el tamaño, forma, y tipo de datos de los arreglos"
      ]
    },
    {
      "cell_type": "code",
      "execution_count": null,
      "metadata": {
        "id": "tOGcZQ_Hegkn"
      },
      "outputs": [],
      "source": [
        "#Primero vamos a definir un par de arreglos con los cuales trabajaremos a lo largo de esta sección\n",
        "np.random.seed(0)\n",
        "arr1 = np.random.randint(10,size=7) #Arreglo de una dimensión\n",
        "arr2 = np.random.randint(10,size=(2,3)) #Arreglo de dos dimensiones\n",
        "arr3 = np.random.randint(10,size=(2,3,4)) #Arreglo de tres dimensiones\n",
        "\n",
        "arr4 = np.random.rand(7,1) #Arreglo de una dimensión"
      ]
    },
    {
      "cell_type": "markdown",
      "metadata": {
        "id": "SUfYFb6jegko"
      },
      "source": [
        "### Shape\n",
        "Indica la forma del arreglo"
      ]
    },
    {
      "cell_type": "code",
      "execution_count": null,
      "metadata": {
        "id": "GcDz0Pd2egkq"
      },
      "outputs": [],
      "source": [
        "print('Forma del arr1: ',   arr1.shape)\n",
        "print('Forma del arr2: ',   arr2.shape)\n",
        "print('Forma del arr3: ',   arr3.shape)\n",
        "print('Forma del arr4: ',   arr4.shape)"
      ]
    },
    {
      "cell_type": "markdown",
      "metadata": {
        "id": "MCkni7fNegkq"
      },
      "source": [
        "### Size\n",
        "Indica el tamaño del arreglo"
      ]
    },
    {
      "cell_type": "code",
      "execution_count": null,
      "metadata": {
        "id": "mvtJnBYeegkr"
      },
      "outputs": [],
      "source": [
        "print('Tamaño del arr1: ',   arr1.size)\n",
        "print('Tamaño del arr2: ',   arr2.size)\n",
        "print('Tamaño del arr3: ',   arr3.size)\n",
        "print('Tamaño del arr4: ',   arr4.size)"
      ]
    },
    {
      "cell_type": "markdown",
      "metadata": {
        "id": "N1zCCbniegku"
      },
      "source": [
        "### dtype\n",
        "Tipo de dato del arreglo"
      ]
    },
    {
      "cell_type": "code",
      "execution_count": null,
      "metadata": {
        "id": "HlW6i6ubegkv"
      },
      "outputs": [],
      "source": [
        "print('Tipo del arr1: ',   arr1.dtype)\n",
        "print('Tipo del arr2: ',   arr2.dtype)\n",
        "print('Tipo del arr3: ',   arr3.dtype)\n",
        "print('Tipo del arr4: ',   arr4.dtype)"
      ]
    },
    {
      "cell_type": "markdown",
      "metadata": {
        "id": "w3BnPEhtegkw"
      },
      "source": [
        "### itemsize\n",
        "Tamaño en bytes de los elementos del arreglo\n"
      ]
    },
    {
      "cell_type": "code",
      "execution_count": null,
      "metadata": {
        "id": "xXXtYpuhegkz"
      },
      "outputs": [],
      "source": [
        "print('Itemsize del arr1: ',   arr1.itemsize)\n",
        "print('Itemsize del arr2: ',   arr2.itemsize)\n",
        "print('Itemsize del arr3: ',   arr3.itemsize)\n",
        "print('Itemsize del arr4: ',   arr4.itemsize)"
      ]
    },
    {
      "cell_type": "markdown",
      "metadata": {
        "id": "Q0qpS5ffegk1"
      },
      "source": [
        "### nbytes\n",
        "Tamaño en bytes del arreglo"
      ]
    },
    {
      "cell_type": "code",
      "execution_count": null,
      "metadata": {
        "id": "C1YrZvg7egk2"
      },
      "outputs": [],
      "source": [
        "print('Nbytes del arr1: ',   arr1.nbytes)\n",
        "print('Nbytes del arr2: ',   arr2.nbytes)\n",
        "print('Nbytes del arr3: ',   arr3.nbytes)\n",
        "print('Nbytes del arr4: ',   arr4.nbytes)"
      ]
    },
    {
      "cell_type": "code",
      "execution_count": null,
      "metadata": {
        "id": "qLbAFxwaegk8"
      },
      "outputs": [],
      "source": []
    }
  ],
  "metadata": {
    "kernelspec": {
      "display_name": "Python 3 (ipykernel)",
      "language": "python",
      "name": "python3"
    },
    "language_info": {
      "codemirror_mode": {
        "name": "ipython",
        "version": 3
      },
      "file_extension": ".py",
      "mimetype": "text/x-python",
      "name": "python",
      "nbconvert_exporter": "python",
      "pygments_lexer": "ipython3",
      "version": "3.8.5"
    },
    "nteract": {
      "version": "0.28.0"
    },
    "colab": {
      "provenance": [],
      "include_colab_link": true
    }
  },
  "nbformat": 4,
  "nbformat_minor": 0
}