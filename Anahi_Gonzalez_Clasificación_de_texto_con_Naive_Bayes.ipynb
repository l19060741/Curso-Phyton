{
  "cells": [
    {
      "cell_type": "markdown",
      "metadata": {
        "id": "view-in-github",
        "colab_type": "text"
      },
      "source": [
        "<a href=\"https://colab.research.google.com/github/l19060741/Curso-Phyton/blob/main/Anahi_Gonzalez_Clasificaci%C3%B3n_de_texto_con_Naive_Bayes.ipynb\" target=\"_parent\"><img src=\"https://colab.research.google.com/assets/colab-badge.svg\" alt=\"Open In Colab\"/></a>"
      ]
    },
    {
      "cell_type": "markdown",
      "id": "5d16c1b7",
      "metadata": {
        "id": "5d16c1b7"
      },
      "source": [
        "# Clasificación de sentimiento de texto con Naive Bayes\n",
        "\n",
        "Uso de la biblioteca scikit-learn[https://scikit-learn.org/stable/]"
      ]
    },
    {
      "cell_type": "code",
      "execution_count": null,
      "id": "006de3cd",
      "metadata": {
        "id": "006de3cd"
      },
      "outputs": [],
      "source": [
        "\n",
        "import numpy as np, pandas as pd\n",
        "import matplotlib.pyplot as plt\n",
        "\n",
        "from sklearn.feature_extraction.text import CountVectorizer\n",
        "from sklearn.feature_extraction.text import TfidfVectorizer\n",
        "from sklearn.model_selection import train_test_split\n",
        "from sklearn.naive_bayes import MultinomialNB\n",
        "from sklearn.metrics import confusion_matrix, accuracy_score\n",
        "from sklearn.metrics import ConfusionMatrixDisplay\n",
        "from sklearn.pipeline import make_pipeline"
      ]
    },
    {
      "cell_type": "markdown",
      "id": "a6786adb",
      "metadata": {
        "id": "a6786adb"
      },
      "source": [
        "Vectorización de texto"
      ]
    },
    {
      "cell_type": "code",
      "execution_count": null,
      "id": "0628b9af",
      "metadata": {
        "id": "0628b9af"
      },
      "outputs": [],
      "source": [
        "#Definimos nuestros documentos\n",
        "corpus = [\n",
        "    'Es jueves',\n",
        "    'Este jueves es frío',\n",
        "    'Empieza el invierno',\n",
        "    'Este jueves es jueves de invierno',\n",
        "]\n",
        "#Convierte una colección de documentos de texto\n",
        "# en una matriz de conteos de tokens\n",
        "vectorizer = CountVectorizer() \n",
        "\n",
        "# Aprende el diccionario del vocabulario y\n",
        "# regresa una matriz con los términos de los documentos\n",
        "X = vectorizer.fit_transform(corpus)\n",
        "\n",
        "# Obtiene los nombres de las características \n",
        "# que se usan en la transformación\n",
        "#print(vectorizer.get_feature_names_out())\n",
        "print(vectorizer.get_feature_names()) #versión anterior\n",
        "\n",
        "#X contiene la matriz de términos de los documentos\n",
        "print(X.toarray())\n"
      ]
    },
    {
      "cell_type": "markdown",
      "id": "fc89381a",
      "metadata": {
        "id": "fc89381a"
      },
      "source": [
        "Uso de scikit learn para clasificar texto"
      ]
    },
    {
      "cell_type": "code",
      "execution_count": null,
      "id": "95883ee8",
      "metadata": {
        "id": "95883ee8"
      },
      "outputs": [],
      "source": [
        "#Definimos nuestro conjunto de datos\n",
        "corpus = [\n",
        "    ['El día esta hermoso',0],\n",
        "    ['Es hermoso cuando hay un arcoiris doble',0],\n",
        "    ['Este es un día horrible',1],\n",
        "    ['Lo horrible del frío',1],\n",
        "    ['El frío me pone triste',1],\n",
        "    ['Me gusta cuando el cielo es azul',0],\n",
        "    ['No me gusta que llueva',1],\n",
        "    ['Que rico es el frío',0],\n",
        "    ['La lluvia es hermosa',0],\n",
        "    ['Que rica lluvia',0],\n",
        "    ['No me gusta este día',1]\n",
        "]"
      ]
    },
    {
      "cell_type": "code",
      "execution_count": null,
      "id": "4f7de38f",
      "metadata": {
        "id": "4f7de38f"
      },
      "outputs": [],
      "source": [
        "df = pd.DataFrame(corpus)\n",
        "X = df[0]\n",
        "y = df[1]"
      ]
    },
    {
      "cell_type": "code",
      "execution_count": null,
      "id": "87cb90d3",
      "metadata": {
        "id": "87cb90d3"
      },
      "outputs": [],
      "source": [
        "#Separamos nuestro conjunto de datos en train y test\n",
        "X_train, X_test, y_train, y_test = train_test_split(X, y, test_size=0.3,stratify=y, random_state=1)\n",
        "y_train"
      ]
    },
    {
      "cell_type": "code",
      "execution_count": null,
      "id": "cf293d42",
      "metadata": {
        "id": "cf293d42"
      },
      "outputs": [],
      "source": [
        "X_test"
      ]
    },
    {
      "cell_type": "code",
      "execution_count": null,
      "id": "289b5421",
      "metadata": {
        "id": "289b5421"
      },
      "outputs": [],
      "source": [
        "#Convierte una colección de documentos de texto\n",
        "# en una matriz de conteos de tokens\n",
        "Tfidfvectorizer = TfidfVectorizer()\n",
        "\n",
        "# Aprende el diccionario del vocabulario y\n",
        "# regresa una matriz con los términos de los documentos\n",
        "X_train_vectorized = Tfidfvectorizer.fit_transform(X_train)\n",
        "X_test_vectorized = Tfidfvectorizer.transform(X_test)\n",
        "\n",
        "# Obtiene los nombres de las características \n",
        "# que se usan en la transformación\n",
        "#print(Tfidfvectorizer.get_feature_names_out())\n",
        "print(vectorizer.get_feature_names()) #Versión anterior\n",
        "\n",
        "#X contiene la matriz de términos de los documentos\n",
        "#print(X_train_vectorized.toarray())\n",
        "print(X_test_vectorized.toarray())"
      ]
    },
    {
      "cell_type": "code",
      "execution_count": null,
      "id": "bb4c29ed",
      "metadata": {
        "id": "bb4c29ed"
      },
      "outputs": [],
      "source": [
        "#Instanciamos un modelo de clasificación Naive Bayes\n",
        "model = MultinomialNB()"
      ]
    },
    {
      "cell_type": "code",
      "execution_count": null,
      "id": "b6218fae",
      "metadata": {
        "id": "b6218fae"
      },
      "outputs": [],
      "source": [
        "#Entrenamos el modelo\n",
        "model.fit(X_train_vectorized,y_train)"
      ]
    },
    {
      "cell_type": "code",
      "execution_count": null,
      "id": "b510e664",
      "metadata": {
        "id": "b510e664"
      },
      "outputs": [],
      "source": [
        "#Predecimos sobre el conjunto de prueba\n",
        "y_pred = model.predict(X_test_vectorized)"
      ]
    },
    {
      "cell_type": "code",
      "execution_count": null,
      "id": "562b8ed5",
      "metadata": {
        "id": "562b8ed5"
      },
      "outputs": [],
      "source": [
        "y_test"
      ]
    },
    {
      "cell_type": "code",
      "execution_count": null,
      "id": "b4dd6c00",
      "metadata": {
        "id": "b4dd6c00"
      },
      "outputs": [],
      "source": [
        "y_pred"
      ]
    },
    {
      "cell_type": "code",
      "execution_count": null,
      "id": "00313ce7",
      "metadata": {
        "id": "00313ce7"
      },
      "outputs": [],
      "source": [
        "#Obtenemos la matriz de confusión\n",
        "cm=confusion_matrix(y_test,y_pred)"
      ]
    },
    {
      "cell_type": "code",
      "execution_count": null,
      "id": "69c7bd6c",
      "metadata": {
        "scrolled": true,
        "id": "69c7bd6c"
      },
      "outputs": [],
      "source": [
        "#Graficamos la matriz de confusión\n",
        "disp = ConfusionMatrixDisplay(cm)\n",
        "disp.plot()\n",
        "plt.show()"
      ]
    },
    {
      "cell_type": "markdown",
      "id": "29545ef4",
      "metadata": {
        "id": "29545ef4"
      },
      "source": [
        "Usando un pipeline"
      ]
    },
    {
      "cell_type": "code",
      "execution_count": null,
      "id": "354061d7",
      "metadata": {
        "id": "354061d7"
      },
      "outputs": [],
      "source": [
        "# Build the model\n",
        "model_with_pipeline = make_pipeline(TfidfVectorizer(), MultinomialNB())"
      ]
    },
    {
      "cell_type": "code",
      "execution_count": null,
      "id": "4adcf777",
      "metadata": {
        "id": "4adcf777"
      },
      "outputs": [],
      "source": [
        "# Train the model using the training data\n",
        "model_with_pipeline.fit(X_train,y_train)"
      ]
    },
    {
      "cell_type": "code",
      "execution_count": null,
      "id": "8b438896",
      "metadata": {
        "id": "8b438896"
      },
      "outputs": [],
      "source": [
        "y_pred2 = model_with_pipeline.predict(X_test)"
      ]
    },
    {
      "cell_type": "code",
      "execution_count": null,
      "id": "43e81716",
      "metadata": {
        "id": "43e81716"
      },
      "outputs": [],
      "source": [
        "#Graficamos la matriz de confusión\n",
        "disp = ConfusionMatrixDisplay(confusion_matrix(y_test,y_pred2))\n",
        "disp.plot()\n",
        "plt.show()"
      ]
    },
    {
      "cell_type": "markdown",
      "id": "7b3df7e1",
      "metadata": {
        "id": "7b3df7e1"
      },
      "source": []
    }
  ],
  "metadata": {
    "kernelspec": {
      "display_name": "Python 3 (ipykernel)",
      "language": "python",
      "name": "python3"
    },
    "language_info": {
      "codemirror_mode": {
        "name": "ipython",
        "version": 3
      },
      "file_extension": ".py",
      "mimetype": "text/x-python",
      "name": "python",
      "nbconvert_exporter": "python",
      "pygments_lexer": "ipython3",
      "version": "3.8.5"
    },
    "vscode": {
      "interpreter": {
        "hash": "807f89556be232cec2a18d9223a5637cebf4bf294ef4691a50d73d3ccaece48f"
      }
    },
    "colab": {
      "provenance": [],
      "include_colab_link": true
    }
  },
  "nbformat": 4,
  "nbformat_minor": 5
}