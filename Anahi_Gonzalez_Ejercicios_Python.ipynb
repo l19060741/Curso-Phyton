{
  "cells": [
    {
      "cell_type": "markdown",
      "metadata": {
        "id": "view-in-github",
        "colab_type": "text"
      },
      "source": [
        "<a href=\"https://colab.research.google.com/github/l19060741/Curso-Phyton/blob/main/Anahi_Gonzalez_Ejercicios_Python.ipynb\" target=\"_parent\"><img src=\"https://colab.research.google.com/assets/colab-badge.svg\" alt=\"Open In Colab\"/></a>"
      ]
    },
    {
      "cell_type": "markdown",
      "metadata": {
        "id": "OMScjBPuuYEI"
      },
      "source": [
        "Ejercicios"
      ]
    },
    {
      "cell_type": "markdown",
      "metadata": {
        "id": "a4Vp8h52uYER"
      },
      "source": [
        "Anota los tipos de datos de Python y declara una variable para cada tipo"
      ]
    },
    {
      "cell_type": "code",
      "execution_count": null,
      "metadata": {
        "id": "9hELA_XLuYES"
      },
      "outputs": [],
      "source": [
        "#Los tipo de datos en Python son:\n",
        "\n",
        "#Números\n",
        "num = 4\n",
        "\n",
        "#Cadenas\n",
        "cadena = \"Esto es una cadena\"\n",
        "\n",
        "#Listas\n",
        "lista = [1,'a','3',4]\n",
        "\n",
        "#Diccionarios\n",
        "diccionario = {'Perro':'Manchas','Gato':'Botas','Conejo':'Taco' }\n",
        "\n",
        "#Booleanos\n",
        "aprendiendo = True\n",
        "\n",
        "#Tuplas\n",
        "tupla = (2,4,6)\n",
        "\n",
        "#Conjuntos\n",
        "conjunto = {'a','b',2,1} \n"
      ]
    },
    {
      "cell_type": "markdown",
      "metadata": {
        "id": "VKUerGfhuYET"
      },
      "source": [
        "Dado que se tienen las siguiente variables, imprime con print el texto:\n",
        "\n",
        "Hay 34 estudiantes en el curso de aprendizaje con Python"
      ]
    },
    {
      "cell_type": "code",
      "execution_count": null,
      "metadata": {
        "id": "TpHvYVt7uYEU"
      },
      "outputs": [],
      "source": [
        "es = 34\n",
        "clase = 'curso de aprendizaje con Python'"
      ]
    },
    {
      "cell_type": "code",
      "execution_count": null,
      "metadata": {
        "colab": {
          "base_uri": "https://localhost:8080/"
        },
        "id": "ViuK33gNuYEW",
        "outputId": "d25c9968-1428-4f13-c6c2-463a95179cdf"
      },
      "outputs": [
        {
          "output_type": "stream",
          "name": "stdout",
          "text": [
            "Hay 34 estudiantes en el curso de aprendizaje con Python\n"
          ]
        }
      ],
      "source": [
        "print('Hay {} estudiantes en el {}'.format(es,clase))"
      ]
    },
    {
      "cell_type": "markdown",
      "metadata": {
        "id": "u04yhZvBuYEW"
      },
      "source": [
        "Dada la siguiente lista, indexa la palabra 'hola'"
      ]
    },
    {
      "cell_type": "code",
      "execution_count": null,
      "metadata": {
        "id": "FOZo0AleuYEZ"
      },
      "outputs": [],
      "source": [
        "lst = [1,2,[3,4],[5,[100,200,['hola']],23,11],1,7]"
      ]
    },
    {
      "cell_type": "code",
      "execution_count": null,
      "metadata": {
        "colab": {
          "base_uri": "https://localhost:8080/"
        },
        "id": "btcsiUUZuYEc",
        "outputId": "85904f36-6da2-47d0-b6d4-c196efb79598"
      },
      "outputs": [
        {
          "output_type": "execute_result",
          "data": {
            "text/plain": [
              "['hola']"
            ]
          },
          "metadata": {},
          "execution_count": 6
        }
      ],
      "source": [
        "lst[3][1][2]"
      ]
    },
    {
      "cell_type": "markdown",
      "metadata": {
        "id": "i9sORgAeuYEd"
      },
      "source": [
        "Dado el siguiente diccionario, indeza la palabra 'hola'"
      ]
    },
    {
      "cell_type": "code",
      "execution_count": null,
      "metadata": {
        "id": "BfhVIunOuYEe"
      },
      "outputs": [],
      "source": [
        "d = {3:[1,2,3,{'curso':['aprendizaje','con','python',{'intel':[1,2,3,'hola']}]}]}"
      ]
    },
    {
      "cell_type": "code",
      "execution_count": null,
      "metadata": {
        "colab": {
          "base_uri": "https://localhost:8080/",
          "height": 35
        },
        "id": "3iRXcLb3uYEg",
        "outputId": "57a21ce7-e8a5-4cec-92be-4cea9d27f5b5"
      },
      "outputs": [
        {
          "output_type": "execute_result",
          "data": {
            "text/plain": [
              "'hola'"
            ],
            "application/vnd.google.colaboratory.intrinsic+json": {
              "type": "string"
            }
          },
          "metadata": {},
          "execution_count": 9
        }
      ],
      "source": [
        "d[3][3]['curso'][3]['intel'][3]"
      ]
    },
    {
      "cell_type": "markdown",
      "metadata": {
        "id": "fYEqOT6QuYEh"
      },
      "source": [
        "Haz una función que dada la siguiente lista encuentre el valor máximo y regresa tanto el valor como el índice en donde estaba (no usar una función ya hecha). Prueba usando for"
      ]
    },
    {
      "cell_type": "code",
      "execution_count": null,
      "metadata": {
        "id": "JZC6XP4-uYEj"
      },
      "outputs": [],
      "source": [
        "lista = [4,9,15,-2,4,3,4,7,25,-25]"
      ]
    },
    {
      "cell_type": "code",
      "execution_count": null,
      "metadata": {
        "id": "UmaYTGxZuYEk"
      },
      "outputs": [],
      "source": [
        "def max(a):\n",
        "  j = -1\n",
        "  for i in a:\n",
        "    j = j + 1\n",
        "    if j==0:\n",
        "      mayor=i\n",
        "      indice=j\n",
        "    if i>mayor:\n",
        "      mayor = i\n",
        "      indice = j\n",
        "  return mayor,indice\n"
      ]
    },
    {
      "cell_type": "code",
      "source": [
        "print(max(lista))"
      ],
      "metadata": {
        "colab": {
          "base_uri": "https://localhost:8080/"
        },
        "id": "5v_kXCzu8Uyt",
        "outputId": "0e6af649-71fa-4f14-d996-d3a8d770401a"
      },
      "execution_count": null,
      "outputs": [
        {
          "output_type": "stream",
          "name": "stdout",
          "text": [
            "(25, 8)\n"
          ]
        }
      ]
    },
    {
      "cell_type": "markdown",
      "metadata": {
        "id": "h_iHZWP9uYEk"
      },
      "source": [
        "Haz una función que reciba un enunciado e indique cuantas palabras hay en total y cuantas de esas palabras empiezan con la letra a (mayúscula o minúscula)"
      ]
    },
    {
      "cell_type": "code",
      "execution_count": null,
      "metadata": {
        "id": "T4KrW-tkuYEl"
      },
      "outputs": [],
      "source": [
        "def palabras(cadena):\n",
        "  pal=cadena.split()\n",
        "  cant=len(pal)\n",
        "  a=0\n",
        "  for i in range(cant):\n",
        "    if cadena.split()[i][0] == 'a' or cadena.split()[i][0] == 'A':\n",
        "      a = a + 1\n",
        "  return cant,a"
      ]
    },
    {
      "cell_type": "code",
      "execution_count": null,
      "metadata": {
        "colab": {
          "base_uri": "https://localhost:8080/"
        },
        "id": "h8Fx-Bu1uYEm",
        "outputId": "af068fc3-471c-4413-9b1b-af67ea2d23c8"
      },
      "outputs": [
        {
          "output_type": "execute_result",
          "data": {
            "text/plain": [
              "(5, 2)"
            ]
          },
          "metadata": {},
          "execution_count": 113
        }
      ],
      "source": [
        "enunciado = \"Anahi es alumna del ITCH\"\n",
        "resultado = palabras(enunciado)\n",
        "resultado"
      ]
    },
    {
      "cell_type": "markdown",
      "metadata": {
        "id": "eCYxejYUuYEm"
      },
      "source": [
        "Haz el mismo ejercicio del problema anterior incluyendo las funciones lambda y filter"
      ]
    },
    {
      "cell_type": "code",
      "execution_count": null,
      "metadata": {
        "id": "lxL_qdbuuYEn"
      },
      "outputs": [],
      "source": [
        "def palabras(cadena):\n",
        "  split=lambda cadena:cadena.split()\n",
        "  pal=split(cadena)\n",
        "  cant=len(pal)\n",
        "  a=list(filter(lambda i:i[0] == ('A') or i[0] == ('a'), pal))\n",
        "  a=len(a)\n",
        "  return cant,a"
      ]
    },
    {
      "cell_type": "code",
      "execution_count": null,
      "metadata": {
        "colab": {
          "base_uri": "https://localhost:8080/"
        },
        "id": "cUr6sVdNuYEo",
        "outputId": "62cb8373-d628-44a0-bfa6-2ad9cc1e94df"
      },
      "outputs": [
        {
          "output_type": "execute_result",
          "data": {
            "text/plain": [
              "(9, 6)"
            ]
          },
          "metadata": {},
          "execution_count": 151
        }
      ],
      "source": [
        "enunciado = \"Anahi es alumna del ITCH\"\n",
        "resultado = palabras(enunciado)\n",
        "resultado"
      ]
    }
  ],
  "metadata": {
    "kernelspec": {
      "display_name": "Python 3.9.1 ('sp')",
      "language": "python",
      "name": "python3"
    },
    "language_info": {
      "codemirror_mode": {
        "name": "ipython",
        "version": 3
      },
      "file_extension": ".py",
      "mimetype": "text/x-python",
      "name": "python",
      "nbconvert_exporter": "python",
      "pygments_lexer": "ipython3",
      "version": "3.9.1"
    },
    "orig_nbformat": 4,
    "vscode": {
      "interpreter": {
        "hash": "913d9f6afdcac488c990c15fea4bdd698fa8f263bec13cf57233e6dc4169ccb5"
      }
    },
    "colab": {
      "provenance": [],
      "include_colab_link": true
    }
  },
  "nbformat": 4,
  "nbformat_minor": 0
}