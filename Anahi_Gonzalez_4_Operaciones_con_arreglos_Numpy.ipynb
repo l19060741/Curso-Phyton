{
  "cells": [
    {
      "cell_type": "markdown",
      "metadata": {
        "id": "view-in-github",
        "colab_type": "text"
      },
      "source": [
        "<a href=\"https://colab.research.google.com/github/l19060741/Curso-Phyton/blob/main/Anahi_Gonzalez_4_Operaciones_con_arreglos_Numpy.ipynb\" target=\"_parent\"><img src=\"https://colab.research.google.com/assets/colab-badge.svg\" alt=\"Open In Colab\"/></a>"
      ]
    },
    {
      "cell_type": "markdown",
      "metadata": {
        "id": "YTljPx6DOgA0"
      },
      "source": [
        "# Lento o rápido\n",
        "\n",
        "El cómputo en las operaciones con Numpy puede ser lento o rápido. La clave esta en el uso de operaciones vectorizadas, implementadas con las funciones universales de Numpy."
      ]
    },
    {
      "cell_type": "code",
      "execution_count": null,
      "metadata": {
        "id": "dwYUTMYhOgA9"
      },
      "outputs": [],
      "source": [
        "# Importar la biblioteca\n",
        "import numpy as np\n",
        "np.random.seed(0)"
      ]
    },
    {
      "cell_type": "code",
      "execution_count": null,
      "metadata": {
        "id": "Bsa0A8YnOgBA"
      },
      "outputs": [],
      "source": [
        "#Función que divide 1 sobre cada valor de un arreglo\n",
        "def divide_uno_sobre_elementos(arreglo):\n",
        "    salida = np.zeros(len(arreglo))\n",
        "    for i in range(len(arreglo)):\n",
        "        salida[i] = 1/arreglo[i]\n",
        "    return salida"
      ]
    },
    {
      "cell_type": "code",
      "execution_count": null,
      "metadata": {
        "colab": {
          "base_uri": "https://localhost:8080/"
        },
        "id": "-NjI_xFDOgBC",
        "outputId": "efd8f1ca-b22b-4cfc-d9bb-4e7f6e6a6c4a"
      },
      "outputs": [
        {
          "output_type": "execute_result",
          "data": {
            "text/plain": [
              "array([0.16666667, 1.        , 0.25      , 0.25      , 0.125     ])"
            ]
          },
          "metadata": {},
          "execution_count": 3
        }
      ],
      "source": [
        "#Definimos un arreglo con valores enteros aleatorios\n",
        "arreglo = np.random.randint(1,10,size=5)\n",
        "\n",
        "#Probamos la función definida\n",
        "divide_uno_sobre_elementos(arreglo)"
      ]
    },
    {
      "cell_type": "code",
      "execution_count": null,
      "metadata": {
        "colab": {
          "base_uri": "https://localhost:8080/"
        },
        "id": "Wq1nkPDUOgBD",
        "outputId": "9ffa2e7e-1fcf-4f74-8ef2-7bbe27178403"
      },
      "outputs": [
        {
          "output_type": "stream",
          "name": "stdout",
          "text": [
            "318 ms ± 10.3 ms per loop (mean ± std. dev. of 7 runs, 1 loop each)\n"
          ]
        }
      ],
      "source": [
        "#Definimos otro arreglo con una mayor cantidad de elementos\n",
        "arreglo = np.random.randint(1,10,size=1000000)\n",
        "\n",
        "#Ahora contabilizamos la duración de la ejecución de la función\n",
        "%timeit divide_uno_sobre_elementos(arreglo)"
      ]
    },
    {
      "cell_type": "code",
      "execution_count": null,
      "metadata": {
        "colab": {
          "base_uri": "https://localhost:8080/"
        },
        "id": "B_nRWpWnOgBD",
        "outputId": "29b5dd3a-c90f-4736-9333-7f1f11b8ff19"
      },
      "outputs": [
        {
          "output_type": "stream",
          "name": "stdout",
          "text": [
            "2.57 ms ± 65.1 µs per loop (mean ± std. dev. of 7 runs, 100 loops each)\n"
          ]
        }
      ],
      "source": [
        "#Usamos una forma alternativa, aprovechando la vectorización de Numpy\n",
        "%timeit 1.0/arreglo    #<-- Esta operación es elemento por elemento"
      ]
    },
    {
      "cell_type": "markdown",
      "metadata": {
        "id": "EmUyLJBkOgBE"
      },
      "source": [
        "# Operaciones básicas\n",
        "\n",
        "Numpy tiene operaciones básicas implementadas de forma eficiente:\n",
        "\n",
        "- (suma) +   \n",
        "- (resta) -   \n",
        "- (multiplicación) *   \n",
        "- (división) /   \n",
        "- (entero de la división ) //  \n",
        "- (módulo) %   \n",
        "- (elevar a una potencia) **  "
      ]
    },
    {
      "cell_type": "code",
      "execution_count": null,
      "metadata": {
        "colab": {
          "base_uri": "https://localhost:8080/"
        },
        "id": "MXet6PLTOgBE",
        "outputId": "0f12aff0-f3bc-4310-a3ac-fc7129b3dba1"
      },
      "outputs": [
        {
          "output_type": "stream",
          "name": "stdout",
          "text": [
            "[1 2 3 4]\n",
            "[3 1 2 1]\n"
          ]
        }
      ],
      "source": [
        "#Generamos dos arreglos\n",
        "x = np.arange(1,5)\n",
        "y = np.random.randint(1,4,size=4)\n",
        "print(x)\n",
        "print(y)"
      ]
    },
    {
      "cell_type": "code",
      "execution_count": null,
      "metadata": {
        "colab": {
          "base_uri": "https://localhost:8080/"
        },
        "id": "URP9bLQhOgBF",
        "outputId": "9ac35f8f-d064-4f2c-9008-a8e4446d0e1a"
      },
      "outputs": [
        {
          "output_type": "execute_result",
          "data": {
            "text/plain": [
              "array([4, 3, 5, 5])"
            ]
          },
          "metadata": {},
          "execution_count": 9
        }
      ],
      "source": [
        "# Sumar dos arreglos\n",
        "x+y"
      ]
    },
    {
      "cell_type": "code",
      "execution_count": null,
      "metadata": {
        "id": "IeMkFazTOgBF"
      },
      "outputs": [],
      "source": [
        "# Restar dos arreglos\n",
        "x-y"
      ]
    },
    {
      "cell_type": "code",
      "execution_count": null,
      "metadata": {
        "id": "_5ZXzRCkOgBG"
      },
      "outputs": [],
      "source": [
        "# Multiplicar dos arreglos (de forma no matricial)\n",
        "x*y"
      ]
    },
    {
      "cell_type": "code",
      "execution_count": null,
      "metadata": {
        "id": "gPU0rTq3OgBG"
      },
      "outputs": [],
      "source": [
        "# Dividir dos arreglos (elemento por elemento)\n",
        "x/y"
      ]
    },
    {
      "cell_type": "code",
      "execution_count": null,
      "metadata": {
        "id": "WJAQCrQMOgBH"
      },
      "outputs": [],
      "source": [
        "# Obtener los enteros de la división de dos arreglos (elemento por elemento)\n",
        "x//y"
      ]
    },
    {
      "cell_type": "code",
      "execution_count": null,
      "metadata": {
        "id": "8Cw6BcAJOgBI"
      },
      "outputs": [],
      "source": [
        "# Elevar al cuadrado elemento por elemento del arreglo\n",
        "x**2"
      ]
    },
    {
      "cell_type": "code",
      "execution_count": null,
      "metadata": {
        "colab": {
          "base_uri": "https://localhost:8080/"
        },
        "id": "8_KuZjHAOgBI",
        "outputId": "b41ead5c-aa84-4463-b629-0e3c7342701e"
      },
      "outputs": [
        {
          "output_type": "execute_result",
          "data": {
            "text/plain": [
              "array([1, 0, 1, 0])"
            ]
          },
          "metadata": {},
          "execution_count": 10
        }
      ],
      "source": [
        "# Obtener el módulo de cada elemento\n",
        "x%2"
      ]
    },
    {
      "cell_type": "code",
      "execution_count": null,
      "metadata": {
        "id": "CXNaU6u7OgBI"
      },
      "outputs": [],
      "source": [
        "# Hacer varias operaciones \n",
        "(-0.5*x+1)**2"
      ]
    },
    {
      "cell_type": "code",
      "execution_count": null,
      "metadata": {
        "id": "B9Hka4ZfOgBI"
      },
      "outputs": [],
      "source": [
        "# Otra forma de escribir estas operaciones\n",
        "# +\n",
        "#np.add\n",
        "np.add(x,y)"
      ]
    },
    {
      "cell_type": "markdown",
      "metadata": {
        "id": "LF4LAAyjOgBJ"
      },
      "source": [
        "### Tabla con nombres de funciones\n",
        "- np.add(suma) +   \n",
        "- np.subtract (resta) -   \n",
        "- np.multiply (multiplicación) *   \n",
        "- np.divide (división) /   \n",
        "- np.floor_divide (entero de la división ) //  \n",
        "- np.mod (módulo) %   \n",
        "- np.power (elevar a una potencia) **  \n",
        "- np.negative"
      ]
    },
    {
      "cell_type": "markdown",
      "metadata": {
        "id": "XdUg1xSpOgBJ"
      },
      "source": [
        "### Más funciones"
      ]
    },
    {
      "cell_type": "markdown",
      "metadata": {
        "id": "lz9biKptOgBK"
      },
      "source": [
        "- np.abs()\n",
        "- np.sin()\n",
        "- np.cos()\n",
        "- np.tan()\n",
        "- np.ln()\n",
        "- np.log2()\n",
        "- np.log10()\n",
        "- np.exp()"
      ]
    },
    {
      "cell_type": "markdown",
      "metadata": {
        "id": "ZB961swJOgBL"
      },
      "source": [
        "# Agregaciones"
      ]
    },
    {
      "cell_type": "markdown",
      "metadata": {
        "id": "dJnVO2upOgBL"
      },
      "source": [
        "En algunas ocasiones tenemos que lidear con una cantidad grande de datos, y en esos casos el primer paso es obtener un resumen de estadísticos de los datos en cuestión. Los más populares son la media y la desviación estándar, que permiten resumir el comportamiento típico del conjunto de datos, pero existen otras agregaciones que también son útiles:\n",
        "\n",
        "- suma\n",
        "- producto\n",
        "- mediana\n",
        "- mínimo\n",
        "- máximo\n",
        "- cuantiles\n",
        "- etc"
      ]
    },
    {
      "cell_type": "code",
      "execution_count": null,
      "metadata": {
        "id": "R1dE6FSlOgBM"
      },
      "outputs": [],
      "source": [
        "#Suma en una dimensión\n",
        "arr = np.random.random(100)\n",
        "np.sum(arr)"
      ]
    },
    {
      "cell_type": "code",
      "execution_count": null,
      "metadata": {
        "id": "F0iJ5kfaOgBN"
      },
      "outputs": [],
      "source": [
        "# Obtener el máximo de un arreglo\n",
        "np.max(arr)"
      ]
    },
    {
      "cell_type": "code",
      "execution_count": null,
      "metadata": {
        "id": "vt4cfbXmOgBN"
      },
      "outputs": [],
      "source": [
        "# Obtener el mínimo de un arreglo\n",
        "np.min(arr)"
      ]
    },
    {
      "cell_type": "markdown",
      "metadata": {
        "id": "ik9pE0XOOgBN"
      },
      "source": [
        "### Agregaciones en arreglos multidimensionales\n"
      ]
    },
    {
      "cell_type": "code",
      "execution_count": null,
      "metadata": {
        "colab": {
          "base_uri": "https://localhost:8080/"
        },
        "id": "_zMsIPxQOgBO",
        "outputId": "b4633744-051e-42e7-8e34-852335f05ba3"
      },
      "outputs": [
        {
          "output_type": "stream",
          "name": "stdout",
          "text": [
            "[[0.345151   0.23346074 0.38064999 0.80351516]\n",
            " [0.44480604 0.66925971 0.63053011 0.65843811]\n",
            " [0.24503895 0.27820458 0.44202878 0.579177  ]]\n"
          ]
        }
      ],
      "source": [
        "# Creamos un arreglo multidimensional\n",
        "mat = np.random.random((3,4))\n",
        "print(mat)"
      ]
    },
    {
      "cell_type": "code",
      "execution_count": null,
      "metadata": {
        "colab": {
          "base_uri": "https://localhost:8080/"
        },
        "id": "TxaREp4QOgBO",
        "outputId": "bd0f5f8c-42b3-44fa-abea-a6035b9e5727"
      },
      "outputs": [
        {
          "output_type": "execute_result",
          "data": {
            "text/plain": [
              "5.710260166903916"
            ]
          },
          "metadata": {},
          "execution_count": 12
        }
      ],
      "source": [
        "# Obtenemos la suma de todos los elementos de la matriz\n",
        "np.sum(mat)"
      ]
    },
    {
      "cell_type": "code",
      "execution_count": null,
      "metadata": {
        "colab": {
          "base_uri": "https://localhost:8080/"
        },
        "id": "mVq2GZDNOgBP",
        "outputId": "8b35446a-0f25-439a-f170-9cad9a1cca64"
      },
      "outputs": [
        {
          "output_type": "execute_result",
          "data": {
            "text/plain": [
              "array([1.03499599, 1.18092503, 1.45320888, 2.04113027])"
            ]
          },
          "metadata": {},
          "execution_count": 13
        }
      ],
      "source": [
        "# Obtenemos la suma de todos los elementos por cada columnas\n",
        "np.sum(mat,axis=0)"
      ]
    },
    {
      "cell_type": "code",
      "execution_count": null,
      "metadata": {
        "colab": {
          "base_uri": "https://localhost:8080/"
        },
        "id": "8z-YcSHBOgBP",
        "outputId": "9f014131-dfff-4235-db0d-1fc97b0800eb"
      },
      "outputs": [
        {
          "output_type": "execute_result",
          "data": {
            "text/plain": [
              "array([1.76277689, 2.40303397, 1.54444931])"
            ]
          },
          "metadata": {},
          "execution_count": 14
        }
      ],
      "source": [
        "# Obtenemos la suma de todos los elementos por cada renglón\n",
        "np.sum(mat,axis=1)"
      ]
    },
    {
      "cell_type": "code",
      "execution_count": null,
      "metadata": {
        "colab": {
          "base_uri": "https://localhost:8080/"
        },
        "id": "Mrp78WGNOgBQ",
        "outputId": "57368739-a15e-42bf-8541-fd25e3b3b587"
      },
      "outputs": [
        {
          "output_type": "execute_result",
          "data": {
            "text/plain": [
              "array([1.76277689, 2.40303397, 1.54444931])"
            ]
          },
          "metadata": {},
          "execution_count": 15
        }
      ],
      "source": [
        "# Obtenemos la suma de todos los elementos considerando el último eje\n",
        "np.sum(mat,axis=-1)"
      ]
    },
    {
      "cell_type": "code",
      "execution_count": null,
      "metadata": {
        "colab": {
          "base_uri": "https://localhost:8080/"
        },
        "id": "EtVXryNBOgBQ",
        "outputId": "d3d4e7bb-b2d1-4ee5-eab0-0a0ae5421723"
      },
      "outputs": [
        {
          "output_type": "stream",
          "name": "stdout",
          "text": [
            "[[[4 0 3 3 3]\n",
            "  [1 3 2 4 0]\n",
            "  [0 4 2 1 0]]\n",
            "\n",
            " [[1 1 0 1 4]\n",
            "  [3 0 3 0 2]\n",
            "  [3 0 1 3 3]]\n",
            "\n",
            " [[3 0 1 1 1]\n",
            "  [0 2 4 3 3]\n",
            "  [2 4 2 0 0]]\n",
            "\n",
            " [[4 0 4 1 4]\n",
            "  [1 2 2 0 1]\n",
            "  [1 1 1 3 3]]]\n"
          ]
        }
      ],
      "source": [
        "# Definimos un arreglo con más dimensiones\n",
        "np.random.seed(0)\n",
        "arr3D= np.random.randint(0,5,size=(4,3,5))\n",
        "print(arr3D)"
      ]
    },
    {
      "cell_type": "code",
      "execution_count": null,
      "metadata": {
        "colab": {
          "base_uri": "https://localhost:8080/"
        },
        "id": "sFRvDHasOgBQ",
        "outputId": "5c6a629b-00f3-4e45-89a4-3fa4077a2d3a"
      },
      "outputs": [
        {
          "output_type": "execute_result",
          "data": {
            "text/plain": [
              "array([[13, 10,  7],\n",
              "       [ 7,  8, 10],\n",
              "       [ 6, 12,  8],\n",
              "       [13,  6,  9]])"
            ]
          },
          "metadata": {},
          "execution_count": 17
        }
      ],
      "source": [
        "np.sum(arr3D,axis=-1)"
      ]
    },
    {
      "cell_type": "markdown",
      "metadata": {
        "id": "NvGXurlzOgBR"
      },
      "source": [
        "### Poner tabla con funciones para hacer agregaciones"
      ]
    },
    {
      "cell_type": "code",
      "source": [
        "from google.colab import drive\n",
        "drive.mount('/content/drive')"
      ],
      "metadata": {
        "colab": {
          "base_uri": "https://localhost:8080/"
        },
        "id": "kZqkES47SBH_",
        "outputId": "e41d6b21-afed-495b-ac46-de4e76b00a49"
      },
      "execution_count": null,
      "outputs": [
        {
          "output_type": "stream",
          "name": "stdout",
          "text": [
            "Drive already mounted at /content/drive; to attempt to forcibly remount, call drive.mount(\"/content/drive\", force_remount=True).\n"
          ]
        }
      ]
    },
    {
      "cell_type": "markdown",
      "metadata": {
        "id": "n6STAJZoOgBR"
      },
      "source": [
        "| Nombre de función | Versión segura por NAN | Descripción |\n",
        "| --- | --- | --- |\n",
        "| np.sum | np.nansum  | Suma de elementos|\n",
        "| np.prod | np.nanprod  | Producto de elementos|\n",
        "| np.mean | np.nanmean  | Media de elementos|\n",
        "| np.std  | np.nanstd  | Desviación estándar|\n",
        "| np.var | np.nanvar  | Varianza|\n",
        "| np.min | np.nanmin  | Valor mínimo|\n",
        "| np.max | np.namax  | Valor máximo|\n",
        "| np.argmin | np.nanargmin  | Índice de valor mínimo|\n",
        "| np.argmax | np.nanargmax  | Índice de valor mÁnimo|\n",
        "| np.median | np.nanmedian  |Mediana de elementos|\n",
        "| np.percentile | np.nanpercentile  | Percentiles|\n",
        "| np.any |  | Valor mínimo|\n",
        "| np.all |   | Valor mínimo|"
      ]
    },
    {
      "cell_type": "markdown",
      "metadata": {
        "id": "2wysYS_dOgBR"
      },
      "source": [
        "# Pequeño ejercicio"
      ]
    },
    {
      "cell_type": "code",
      "execution_count": null,
      "metadata": {
        "id": "N6CCnP3xOgBR"
      },
      "outputs": [],
      "source": [
        "#Leer datos de un archivo csv\n",
        "from numpy import genfromtxt\n",
        "my_data = genfromtxt('/content/drive/MyDrive/Classroom/Aprendizaje Automático con Python/Anahi Gonzalez - president_heights.csv', delimiter=',')"
      ]
    },
    {
      "cell_type": "code",
      "execution_count": null,
      "metadata": {
        "colab": {
          "base_uri": "https://localhost:8080/"
        },
        "id": "Ua7QHLF7OgBS",
        "outputId": "fa83688f-2ecb-4677-f709-90c5f31132ca"
      },
      "outputs": [
        {
          "output_type": "execute_result",
          "data": {
            "text/plain": [
              "(43, 3)"
            ]
          },
          "metadata": {},
          "execution_count": 21
        }
      ],
      "source": [
        "#Conocer la forma de los datos\n",
        "my_data.shape"
      ]
    },
    {
      "cell_type": "code",
      "execution_count": null,
      "metadata": {
        "colab": {
          "base_uri": "https://localhost:8080/"
        },
        "id": "Jy-dxtPcOgBS",
        "outputId": "947b341c-1584-4eb3-d74e-66240fbcd364"
      },
      "outputs": [
        {
          "output_type": "execute_result",
          "data": {
            "text/plain": [
              "array([[ nan,  nan,  nan],\n",
              "       [  1.,  nan, 189.],\n",
              "       [  2.,  nan, 170.],\n",
              "       [  3.,  nan, 189.],\n",
              "       [  4.,  nan, 163.],\n",
              "       [  5.,  nan, 183.],\n",
              "       [  6.,  nan, 171.],\n",
              "       [  7.,  nan, 185.],\n",
              "       [  8.,  nan, 168.],\n",
              "       [  9.,  nan, 173.],\n",
              "       [ 10.,  nan, 183.],\n",
              "       [ 11.,  nan, 173.],\n",
              "       [ 12.,  nan, 173.],\n",
              "       [ 13.,  nan, 175.],\n",
              "       [ 14.,  nan, 178.],\n",
              "       [ 15.,  nan, 183.],\n",
              "       [ 16.,  nan, 193.],\n",
              "       [ 17.,  nan, 178.],\n",
              "       [ 18.,  nan, 173.],\n",
              "       [ 19.,  nan, 174.],\n",
              "       [ 20.,  nan, 183.],\n",
              "       [ 21.,  nan, 183.],\n",
              "       [ 23.,  nan, 168.],\n",
              "       [ 25.,  nan, 170.],\n",
              "       [ 26.,  nan, 178.],\n",
              "       [ 27.,  nan, 182.],\n",
              "       [ 28.,  nan, 180.],\n",
              "       [ 29.,  nan, 183.],\n",
              "       [ 30.,  nan, 178.],\n",
              "       [ 31.,  nan, 182.],\n",
              "       [ 32.,  nan, 188.],\n",
              "       [ 33.,  nan, 175.],\n",
              "       [ 34.,  nan, 179.],\n",
              "       [ 35.,  nan, 183.],\n",
              "       [ 36.,  nan, 193.],\n",
              "       [ 37.,  nan, 182.],\n",
              "       [ 38.,  nan, 183.],\n",
              "       [ 39.,  nan, 177.],\n",
              "       [ 40.,  nan, 185.],\n",
              "       [ 41.,  nan, 188.],\n",
              "       [ 42.,  nan, 188.],\n",
              "       [ 43.,  nan, 182.],\n",
              "       [ 44.,  nan, 185.]])"
            ]
          },
          "metadata": {},
          "execution_count": 22
        }
      ],
      "source": [
        "# Ver los datos\n",
        "my_data"
      ]
    },
    {
      "cell_type": "code",
      "execution_count": null,
      "metadata": {
        "id": "3msGBBiFOgBS"
      },
      "outputs": [],
      "source": [
        "# Leer los datos de otra forma\n",
        "import pandas as pd\n",
        "my_data = pd.read_csv('/content/drive/MyDrive/Classroom/Aprendizaje Automático con Python/Anahi Gonzalez - president_heights.csv')"
      ]
    },
    {
      "cell_type": "code",
      "execution_count": null,
      "metadata": {
        "colab": {
          "base_uri": "https://localhost:8080/",
          "height": 1000
        },
        "id": "3CEaniPMOgBS",
        "outputId": "9f761b15-7ef1-445a-ec1a-c72c1e380595"
      },
      "outputs": [
        {
          "output_type": "execute_result",
          "data": {
            "text/plain": [
              "    order                    name  height(cm)\n",
              "0       1       George Washington         189\n",
              "1       2              John Adams         170\n",
              "2       3        Thomas Jefferson         189\n",
              "3       4           James Madison         163\n",
              "4       5            James Monroe         183\n",
              "5       6       John Quincy Adams         171\n",
              "6       7          Andrew Jackson         185\n",
              "7       8        Martin Van Buren         168\n",
              "8       9  William Henry Harrison         173\n",
              "9      10              John Tyler         183\n",
              "10     11           James K. Polk         173\n",
              "11     12          Zachary Taylor         173\n",
              "12     13        Millard Fillmore         175\n",
              "13     14         Franklin Pierce         178\n",
              "14     15          James Buchanan         183\n",
              "15     16         Abraham Lincoln         193\n",
              "16     17          Andrew Johnson         178\n",
              "17     18        Ulysses S. Grant         173\n",
              "18     19     Rutherford B. Hayes         174\n",
              "19     20       James A. Garfield         183\n",
              "20     21       Chester A. Arthur         183\n",
              "21     23       Benjamin Harrison         168\n",
              "22     25        William McKinley         170\n",
              "23     26      Theodore Roosevelt         178\n",
              "24     27     William Howard Taft         182\n",
              "25     28          Woodrow Wilson         180\n",
              "26     29       Warren G. Harding         183\n",
              "27     30         Calvin Coolidge         178\n",
              "28     31          Herbert Hoover         182\n",
              "29     32   Franklin D. Roosevelt         188\n",
              "30     33         Harry S. Truman         175\n",
              "31     34    Dwight D. Eisenhower         179\n",
              "32     35         John F. Kennedy         183\n",
              "33     36       Lyndon B. Johnson         193\n",
              "34     37           Richard Nixon         182\n",
              "35     38             Gerald Ford         183\n",
              "36     39            Jimmy Carter         177\n",
              "37     40           Ronald Reagan         185\n",
              "38     41       George H. W. Bush         188\n",
              "39     42            Bill Clinton         188\n",
              "40     43          George W. Bush         182\n",
              "41     44            Barack Obama         185"
            ],
            "text/html": [
              "\n",
              "  <div id=\"df-89bc4fe5-e5a9-4a99-aa44-fd2a06c41180\">\n",
              "    <div class=\"colab-df-container\">\n",
              "      <div>\n",
              "<style scoped>\n",
              "    .dataframe tbody tr th:only-of-type {\n",
              "        vertical-align: middle;\n",
              "    }\n",
              "\n",
              "    .dataframe tbody tr th {\n",
              "        vertical-align: top;\n",
              "    }\n",
              "\n",
              "    .dataframe thead th {\n",
              "        text-align: right;\n",
              "    }\n",
              "</style>\n",
              "<table border=\"1\" class=\"dataframe\">\n",
              "  <thead>\n",
              "    <tr style=\"text-align: right;\">\n",
              "      <th></th>\n",
              "      <th>order</th>\n",
              "      <th>name</th>\n",
              "      <th>height(cm)</th>\n",
              "    </tr>\n",
              "  </thead>\n",
              "  <tbody>\n",
              "    <tr>\n",
              "      <th>0</th>\n",
              "      <td>1</td>\n",
              "      <td>George Washington</td>\n",
              "      <td>189</td>\n",
              "    </tr>\n",
              "    <tr>\n",
              "      <th>1</th>\n",
              "      <td>2</td>\n",
              "      <td>John Adams</td>\n",
              "      <td>170</td>\n",
              "    </tr>\n",
              "    <tr>\n",
              "      <th>2</th>\n",
              "      <td>3</td>\n",
              "      <td>Thomas Jefferson</td>\n",
              "      <td>189</td>\n",
              "    </tr>\n",
              "    <tr>\n",
              "      <th>3</th>\n",
              "      <td>4</td>\n",
              "      <td>James Madison</td>\n",
              "      <td>163</td>\n",
              "    </tr>\n",
              "    <tr>\n",
              "      <th>4</th>\n",
              "      <td>5</td>\n",
              "      <td>James Monroe</td>\n",
              "      <td>183</td>\n",
              "    </tr>\n",
              "    <tr>\n",
              "      <th>5</th>\n",
              "      <td>6</td>\n",
              "      <td>John Quincy Adams</td>\n",
              "      <td>171</td>\n",
              "    </tr>\n",
              "    <tr>\n",
              "      <th>6</th>\n",
              "      <td>7</td>\n",
              "      <td>Andrew Jackson</td>\n",
              "      <td>185</td>\n",
              "    </tr>\n",
              "    <tr>\n",
              "      <th>7</th>\n",
              "      <td>8</td>\n",
              "      <td>Martin Van Buren</td>\n",
              "      <td>168</td>\n",
              "    </tr>\n",
              "    <tr>\n",
              "      <th>8</th>\n",
              "      <td>9</td>\n",
              "      <td>William Henry Harrison</td>\n",
              "      <td>173</td>\n",
              "    </tr>\n",
              "    <tr>\n",
              "      <th>9</th>\n",
              "      <td>10</td>\n",
              "      <td>John Tyler</td>\n",
              "      <td>183</td>\n",
              "    </tr>\n",
              "    <tr>\n",
              "      <th>10</th>\n",
              "      <td>11</td>\n",
              "      <td>James K. Polk</td>\n",
              "      <td>173</td>\n",
              "    </tr>\n",
              "    <tr>\n",
              "      <th>11</th>\n",
              "      <td>12</td>\n",
              "      <td>Zachary Taylor</td>\n",
              "      <td>173</td>\n",
              "    </tr>\n",
              "    <tr>\n",
              "      <th>12</th>\n",
              "      <td>13</td>\n",
              "      <td>Millard Fillmore</td>\n",
              "      <td>175</td>\n",
              "    </tr>\n",
              "    <tr>\n",
              "      <th>13</th>\n",
              "      <td>14</td>\n",
              "      <td>Franklin Pierce</td>\n",
              "      <td>178</td>\n",
              "    </tr>\n",
              "    <tr>\n",
              "      <th>14</th>\n",
              "      <td>15</td>\n",
              "      <td>James Buchanan</td>\n",
              "      <td>183</td>\n",
              "    </tr>\n",
              "    <tr>\n",
              "      <th>15</th>\n",
              "      <td>16</td>\n",
              "      <td>Abraham Lincoln</td>\n",
              "      <td>193</td>\n",
              "    </tr>\n",
              "    <tr>\n",
              "      <th>16</th>\n",
              "      <td>17</td>\n",
              "      <td>Andrew Johnson</td>\n",
              "      <td>178</td>\n",
              "    </tr>\n",
              "    <tr>\n",
              "      <th>17</th>\n",
              "      <td>18</td>\n",
              "      <td>Ulysses S. Grant</td>\n",
              "      <td>173</td>\n",
              "    </tr>\n",
              "    <tr>\n",
              "      <th>18</th>\n",
              "      <td>19</td>\n",
              "      <td>Rutherford B. Hayes</td>\n",
              "      <td>174</td>\n",
              "    </tr>\n",
              "    <tr>\n",
              "      <th>19</th>\n",
              "      <td>20</td>\n",
              "      <td>James A. Garfield</td>\n",
              "      <td>183</td>\n",
              "    </tr>\n",
              "    <tr>\n",
              "      <th>20</th>\n",
              "      <td>21</td>\n",
              "      <td>Chester A. Arthur</td>\n",
              "      <td>183</td>\n",
              "    </tr>\n",
              "    <tr>\n",
              "      <th>21</th>\n",
              "      <td>23</td>\n",
              "      <td>Benjamin Harrison</td>\n",
              "      <td>168</td>\n",
              "    </tr>\n",
              "    <tr>\n",
              "      <th>22</th>\n",
              "      <td>25</td>\n",
              "      <td>William McKinley</td>\n",
              "      <td>170</td>\n",
              "    </tr>\n",
              "    <tr>\n",
              "      <th>23</th>\n",
              "      <td>26</td>\n",
              "      <td>Theodore Roosevelt</td>\n",
              "      <td>178</td>\n",
              "    </tr>\n",
              "    <tr>\n",
              "      <th>24</th>\n",
              "      <td>27</td>\n",
              "      <td>William Howard Taft</td>\n",
              "      <td>182</td>\n",
              "    </tr>\n",
              "    <tr>\n",
              "      <th>25</th>\n",
              "      <td>28</td>\n",
              "      <td>Woodrow Wilson</td>\n",
              "      <td>180</td>\n",
              "    </tr>\n",
              "    <tr>\n",
              "      <th>26</th>\n",
              "      <td>29</td>\n",
              "      <td>Warren G. Harding</td>\n",
              "      <td>183</td>\n",
              "    </tr>\n",
              "    <tr>\n",
              "      <th>27</th>\n",
              "      <td>30</td>\n",
              "      <td>Calvin Coolidge</td>\n",
              "      <td>178</td>\n",
              "    </tr>\n",
              "    <tr>\n",
              "      <th>28</th>\n",
              "      <td>31</td>\n",
              "      <td>Herbert Hoover</td>\n",
              "      <td>182</td>\n",
              "    </tr>\n",
              "    <tr>\n",
              "      <th>29</th>\n",
              "      <td>32</td>\n",
              "      <td>Franklin D. Roosevelt</td>\n",
              "      <td>188</td>\n",
              "    </tr>\n",
              "    <tr>\n",
              "      <th>30</th>\n",
              "      <td>33</td>\n",
              "      <td>Harry S. Truman</td>\n",
              "      <td>175</td>\n",
              "    </tr>\n",
              "    <tr>\n",
              "      <th>31</th>\n",
              "      <td>34</td>\n",
              "      <td>Dwight D. Eisenhower</td>\n",
              "      <td>179</td>\n",
              "    </tr>\n",
              "    <tr>\n",
              "      <th>32</th>\n",
              "      <td>35</td>\n",
              "      <td>John F. Kennedy</td>\n",
              "      <td>183</td>\n",
              "    </tr>\n",
              "    <tr>\n",
              "      <th>33</th>\n",
              "      <td>36</td>\n",
              "      <td>Lyndon B. Johnson</td>\n",
              "      <td>193</td>\n",
              "    </tr>\n",
              "    <tr>\n",
              "      <th>34</th>\n",
              "      <td>37</td>\n",
              "      <td>Richard Nixon</td>\n",
              "      <td>182</td>\n",
              "    </tr>\n",
              "    <tr>\n",
              "      <th>35</th>\n",
              "      <td>38</td>\n",
              "      <td>Gerald Ford</td>\n",
              "      <td>183</td>\n",
              "    </tr>\n",
              "    <tr>\n",
              "      <th>36</th>\n",
              "      <td>39</td>\n",
              "      <td>Jimmy Carter</td>\n",
              "      <td>177</td>\n",
              "    </tr>\n",
              "    <tr>\n",
              "      <th>37</th>\n",
              "      <td>40</td>\n",
              "      <td>Ronald Reagan</td>\n",
              "      <td>185</td>\n",
              "    </tr>\n",
              "    <tr>\n",
              "      <th>38</th>\n",
              "      <td>41</td>\n",
              "      <td>George H. W. Bush</td>\n",
              "      <td>188</td>\n",
              "    </tr>\n",
              "    <tr>\n",
              "      <th>39</th>\n",
              "      <td>42</td>\n",
              "      <td>Bill Clinton</td>\n",
              "      <td>188</td>\n",
              "    </tr>\n",
              "    <tr>\n",
              "      <th>40</th>\n",
              "      <td>43</td>\n",
              "      <td>George W. Bush</td>\n",
              "      <td>182</td>\n",
              "    </tr>\n",
              "    <tr>\n",
              "      <th>41</th>\n",
              "      <td>44</td>\n",
              "      <td>Barack Obama</td>\n",
              "      <td>185</td>\n",
              "    </tr>\n",
              "  </tbody>\n",
              "</table>\n",
              "</div>\n",
              "      <button class=\"colab-df-convert\" onclick=\"convertToInteractive('df-89bc4fe5-e5a9-4a99-aa44-fd2a06c41180')\"\n",
              "              title=\"Convert this dataframe to an interactive table.\"\n",
              "              style=\"display:none;\">\n",
              "        \n",
              "  <svg xmlns=\"http://www.w3.org/2000/svg\" height=\"24px\"viewBox=\"0 0 24 24\"\n",
              "       width=\"24px\">\n",
              "    <path d=\"M0 0h24v24H0V0z\" fill=\"none\"/>\n",
              "    <path d=\"M18.56 5.44l.94 2.06.94-2.06 2.06-.94-2.06-.94-.94-2.06-.94 2.06-2.06.94zm-11 1L8.5 8.5l.94-2.06 2.06-.94-2.06-.94L8.5 2.5l-.94 2.06-2.06.94zm10 10l.94 2.06.94-2.06 2.06-.94-2.06-.94-.94-2.06-.94 2.06-2.06.94z\"/><path d=\"M17.41 7.96l-1.37-1.37c-.4-.4-.92-.59-1.43-.59-.52 0-1.04.2-1.43.59L10.3 9.45l-7.72 7.72c-.78.78-.78 2.05 0 2.83L4 21.41c.39.39.9.59 1.41.59.51 0 1.02-.2 1.41-.59l7.78-7.78 2.81-2.81c.8-.78.8-2.07 0-2.86zM5.41 20L4 18.59l7.72-7.72 1.47 1.35L5.41 20z\"/>\n",
              "  </svg>\n",
              "      </button>\n",
              "      \n",
              "  <style>\n",
              "    .colab-df-container {\n",
              "      display:flex;\n",
              "      flex-wrap:wrap;\n",
              "      gap: 12px;\n",
              "    }\n",
              "\n",
              "    .colab-df-convert {\n",
              "      background-color: #E8F0FE;\n",
              "      border: none;\n",
              "      border-radius: 50%;\n",
              "      cursor: pointer;\n",
              "      display: none;\n",
              "      fill: #1967D2;\n",
              "      height: 32px;\n",
              "      padding: 0 0 0 0;\n",
              "      width: 32px;\n",
              "    }\n",
              "\n",
              "    .colab-df-convert:hover {\n",
              "      background-color: #E2EBFA;\n",
              "      box-shadow: 0px 1px 2px rgba(60, 64, 67, 0.3), 0px 1px 3px 1px rgba(60, 64, 67, 0.15);\n",
              "      fill: #174EA6;\n",
              "    }\n",
              "\n",
              "    [theme=dark] .colab-df-convert {\n",
              "      background-color: #3B4455;\n",
              "      fill: #D2E3FC;\n",
              "    }\n",
              "\n",
              "    [theme=dark] .colab-df-convert:hover {\n",
              "      background-color: #434B5C;\n",
              "      box-shadow: 0px 1px 3px 1px rgba(0, 0, 0, 0.15);\n",
              "      filter: drop-shadow(0px 1px 2px rgba(0, 0, 0, 0.3));\n",
              "      fill: #FFFFFF;\n",
              "    }\n",
              "  </style>\n",
              "\n",
              "      <script>\n",
              "        const buttonEl =\n",
              "          document.querySelector('#df-89bc4fe5-e5a9-4a99-aa44-fd2a06c41180 button.colab-df-convert');\n",
              "        buttonEl.style.display =\n",
              "          google.colab.kernel.accessAllowed ? 'block' : 'none';\n",
              "\n",
              "        async function convertToInteractive(key) {\n",
              "          const element = document.querySelector('#df-89bc4fe5-e5a9-4a99-aa44-fd2a06c41180');\n",
              "          const dataTable =\n",
              "            await google.colab.kernel.invokeFunction('convertToInteractive',\n",
              "                                                     [key], {});\n",
              "          if (!dataTable) return;\n",
              "\n",
              "          const docLinkHtml = 'Like what you see? Visit the ' +\n",
              "            '<a target=\"_blank\" href=https://colab.research.google.com/notebooks/data_table.ipynb>data table notebook</a>'\n",
              "            + ' to learn more about interactive tables.';\n",
              "          element.innerHTML = '';\n",
              "          dataTable['output_type'] = 'display_data';\n",
              "          await google.colab.output.renderOutput(dataTable, element);\n",
              "          const docLink = document.createElement('div');\n",
              "          docLink.innerHTML = docLinkHtml;\n",
              "          element.appendChild(docLink);\n",
              "        }\n",
              "      </script>\n",
              "    </div>\n",
              "  </div>\n",
              "  "
            ]
          },
          "metadata": {},
          "execution_count": 25
        }
      ],
      "source": [
        "# Ver los datos\n",
        "my_data"
      ]
    },
    {
      "cell_type": "code",
      "execution_count": null,
      "metadata": {
        "colab": {
          "base_uri": "https://localhost:8080/"
        },
        "id": "d816N3QzOgBS",
        "outputId": "1cdeff1c-4e16-4c05-beb3-22ed2e83b05f"
      },
      "outputs": [
        {
          "output_type": "stream",
          "name": "stdout",
          "text": [
            "[189 170 189 163 183 171 185 168 173 183 173 173 175 178 183 193 178 173\n",
            " 174 183 183 168 170 178 182 180 183 178 182 188 175 179 183 193 182 183\n",
            " 177 185 188 188 182 185]\n"
          ]
        }
      ],
      "source": [
        "# Asignar como arreglo Numpy\n",
        "alturas = np.array(my_data['height(cm)'])\n",
        "print(alturas)"
      ]
    },
    {
      "cell_type": "code",
      "execution_count": null,
      "metadata": {
        "colab": {
          "base_uri": "https://localhost:8080/"
        },
        "id": "pduk7gztOgBT",
        "outputId": "63e5baeb-9a81-4182-a4a1-a8a19b5a8bef"
      },
      "outputs": [
        {
          "output_type": "stream",
          "name": "stdout",
          "text": [
            "Altura media:  179.73809523809524\n",
            "Desviación estándar:  6.931843442745892\n",
            "Altura mínima:  163\n",
            "Altura máxima:  193\n"
          ]
        }
      ],
      "source": [
        "# Describir el conjunto de datos\n",
        "print(\"Altura media: \",alturas.mean())\n",
        "print(\"Desviación estándar: \",alturas.std())\n",
        "print(\"Altura mínima: \",alturas.min())\n",
        "print(\"Altura máxima: \",alturas.max())"
      ]
    },
    {
      "cell_type": "code",
      "execution_count": null,
      "metadata": {
        "id": "cHEIXjUXOgBT"
      },
      "outputs": [],
      "source": []
    }
  ],
  "metadata": {
    "kernelspec": {
      "display_name": "Python 3 (ipykernel)",
      "language": "python",
      "name": "python3"
    },
    "language_info": {
      "codemirror_mode": {
        "name": "ipython",
        "version": 3
      },
      "file_extension": ".py",
      "mimetype": "text/x-python",
      "name": "python",
      "nbconvert_exporter": "python",
      "pygments_lexer": "ipython3",
      "version": "3.8.5"
    },
    "colab": {
      "provenance": [],
      "include_colab_link": true
    }
  },
  "nbformat": 4,
  "nbformat_minor": 0
}