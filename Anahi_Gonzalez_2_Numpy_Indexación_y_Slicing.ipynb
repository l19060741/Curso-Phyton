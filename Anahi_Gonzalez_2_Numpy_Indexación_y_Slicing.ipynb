{
  "cells": [
    {
      "cell_type": "markdown",
      "metadata": {
        "id": "view-in-github",
        "colab_type": "text"
      },
      "source": [
        "<a href=\"https://colab.research.google.com/github/l19060741/Curso-Phyton/blob/main/Anahi_Gonzalez_2_Numpy_Indexaci%C3%B3n_y_Slicing.ipynb\" target=\"_parent\"><img src=\"https://colab.research.google.com/assets/colab-badge.svg\" alt=\"Open In Colab\"/></a>"
      ]
    },
    {
      "cell_type": "markdown",
      "metadata": {
        "id": "2i-eA6e4xFQn"
      },
      "source": [
        "# Indexación y Slicing de arreglos Numpy\n",
        "\n",
        "Podemos acceder a elementos individuales de los arreglos, y también a grupos de elementos."
      ]
    },
    {
      "cell_type": "markdown",
      "metadata": {
        "id": "wnphJpQlxFQv"
      },
      "source": [
        "## Indexación: Acceder a elementos individuales"
      ]
    },
    {
      "cell_type": "code",
      "execution_count": null,
      "metadata": {
        "id": "Ud9ybBotxFQw"
      },
      "outputs": [],
      "source": [
        "# Cargar las bibliotecas necesarias\n",
        "import numpy as np"
      ]
    },
    {
      "cell_type": "code",
      "execution_count": null,
      "metadata": {
        "id": "oNPM7l_axFQy"
      },
      "outputs": [],
      "source": [
        "#Crear un arreglo con 10 enteros aleatorios\n",
        "np.random.seed(0)\n",
        "arr = np.random.randint(1,10, 10)"
      ]
    },
    {
      "cell_type": "code",
      "execution_count": null,
      "metadata": {
        "id": "FlDIFFKKxFQy"
      },
      "outputs": [],
      "source": [
        "print(arr)"
      ]
    },
    {
      "cell_type": "markdown",
      "metadata": {
        "id": "jA1gb6a2xFQy"
      },
      "source": [
        "Para acceder a los elementos del arreglo, usamos corchetes []"
      ]
    },
    {
      "cell_type": "code",
      "execution_count": null,
      "metadata": {
        "id": "xqz9qiXGxFQz"
      },
      "outputs": [],
      "source": [
        "\n",
        "# Si queremos seleccionar el emeneto con el índice 2, entonces usamos arr[2]\n",
        "arr[2]"
      ]
    },
    {
      "cell_type": "code",
      "execution_count": null,
      "metadata": {
        "id": "YAXtZ9E3xFQz"
      },
      "outputs": [],
      "source": [
        "#Para seleccionar el primer elemento\n",
        "arr[0]"
      ]
    },
    {
      "cell_type": "markdown",
      "metadata": {
        "id": "8Yr-V5EOxFQ0"
      },
      "source": [
        "Podemos indexar del final del arreglo al inicio usando índices negativos"
      ]
    },
    {
      "cell_type": "code",
      "execution_count": null,
      "metadata": {
        "id": "0hYKkWyYxFQ0"
      },
      "outputs": [],
      "source": [
        "arr[-1]"
      ]
    },
    {
      "cell_type": "code",
      "execution_count": null,
      "metadata": {
        "id": "R_-8Yu9wxFQ0"
      },
      "outputs": [],
      "source": [
        "arr[-3]"
      ]
    },
    {
      "cell_type": "markdown",
      "metadata": {
        "id": "x_H99b2txFQ0"
      },
      "source": [
        "En el caso de arreglos multidimensionales, accedemos a los elementos usando índices en tuplas separadas por coma"
      ]
    },
    {
      "cell_type": "code",
      "execution_count": null,
      "metadata": {
        "id": "bl5zW8CyxFQ1"
      },
      "outputs": [],
      "source": [
        "# Construir un arreglo bidimensional aleatorio de forma (3,4) que contenga valores del 0 al 10\n",
        "np.random.seed(0)\n",
        "matr = np.random.randint(0,10,size=(3,4))"
      ]
    },
    {
      "cell_type": "code",
      "execution_count": null,
      "metadata": {
        "id": "cNSBScd_xFQ1"
      },
      "outputs": [],
      "source": [
        "print(matr)"
      ]
    },
    {
      "cell_type": "code",
      "execution_count": null,
      "metadata": {
        "id": "RGdyscsaxFQ1"
      },
      "outputs": [],
      "source": [
        "#Para seleccionar el primer elmento\n",
        "matr[0,0]"
      ]
    },
    {
      "cell_type": "code",
      "execution_count": null,
      "metadata": {
        "id": "5DOkW3ukxFQ2"
      },
      "outputs": [],
      "source": [
        "#Para seleccionar otro elemento\n",
        "matr[1,2]"
      ]
    },
    {
      "cell_type": "code",
      "execution_count": null,
      "metadata": {
        "id": "WfYaibeIxFQ2"
      },
      "outputs": [],
      "source": [
        "#Para seleccionar elementos usando índices negativos\n",
        "matr[-1,0]"
      ]
    },
    {
      "cell_type": "markdown",
      "metadata": {
        "id": "R-UHGbg_xFQ2"
      },
      "source": [
        "También es posible modificar valores individuales usando la indexación mostrada. Cabe mencionar que a diferencia de las listas, los arreglos Numpy tienen un tipo fijo, y si quieres insertar un valor flotante en un arreglo e enteros, esto ocasionara que sea truncado (silenciosamente)."
      ]
    },
    {
      "cell_type": "code",
      "execution_count": null,
      "metadata": {
        "id": "sUfTXY3OxFQ2"
      },
      "outputs": [],
      "source": [
        "matr[0,1]=11"
      ]
    },
    {
      "cell_type": "code",
      "execution_count": null,
      "metadata": {
        "id": "HeG17SwvxFQ3"
      },
      "outputs": [],
      "source": [
        "print(matr)"
      ]
    },
    {
      "cell_type": "code",
      "execution_count": null,
      "metadata": {
        "id": "IeBbtbIixFQ3"
      },
      "outputs": [],
      "source": [
        "matr[1,3] = 3.1416\n",
        "print(matr)"
      ]
    },
    {
      "cell_type": "markdown",
      "metadata": {
        "id": "8pGjiUdLxFQ3"
      },
      "source": [
        "# Slicing: Accediendo a subarreglos\n",
        "\n",
        "Para acceder a subarreglos utilizamos una notación especial que hace uso del caracter 'dos puntos' (:). Para obtener el subarreglo (rebanada o slice en inglés) se utiliza lo siguiente:\n",
        "\n",
        "arr[inicio:final:paso]\n",
        "\n",
        "En dado caso que no se especifiquen, los valores por default son:\n",
        "\n",
        "- inicio=0\n",
        "- final=tamaño de la dimensión\n",
        "- paso=1"
      ]
    },
    {
      "cell_type": "markdown",
      "metadata": {
        "id": "XwAWEqufxFQ4"
      },
      "source": [
        "### Arreglos unidimensionales"
      ]
    },
    {
      "cell_type": "code",
      "execution_count": null,
      "metadata": {
        "id": "6n25qDNwxFQ5"
      },
      "outputs": [],
      "source": [
        "# Construir un arreglo unidimensional aleatorio que contenga 10 valores del 1 al 9\n",
        "np.random.seed(0)\n",
        "arr = np.random.randint(1,9,10)\n",
        "print(arr)\n"
      ]
    },
    {
      "cell_type": "code",
      "execution_count": null,
      "metadata": {
        "id": "rWIK-tV0xFQ5"
      },
      "outputs": [],
      "source": [
        "# Seleccionar desde el segundo elemento hasta el penúltimo para conseguir este subarreglo [8 6 1 4 4 4 8 2]\n",
        "arr[1:9]"
      ]
    },
    {
      "cell_type": "code",
      "execution_count": null,
      "metadata": {
        "id": "Yn3FM-5RxFQ5"
      },
      "outputs": [],
      "source": [
        "#Otra forma de hacerlo\n",
        "arr[1:-1]"
      ]
    },
    {
      "cell_type": "code",
      "execution_count": null,
      "metadata": {
        "id": "Zycyev_UxFQ6"
      },
      "outputs": [],
      "source": [
        "#Obtener los primeros 4 elementos\n",
        "arr[:5]"
      ]
    },
    {
      "cell_type": "code",
      "execution_count": null,
      "metadata": {
        "id": "4mfg3ogbxFQ7"
      },
      "outputs": [],
      "source": [
        "#Seleccionar los elementos después del índice 5\n",
        "arr[5:]"
      ]
    },
    {
      "cell_type": "code",
      "execution_count": null,
      "metadata": {
        "id": "syX_Q16ZxFQ7"
      },
      "outputs": [],
      "source": [
        "#Seleccionar desde el índice 1 hasta el final, tomando valores de dos en dos\n",
        "arr[1::2]"
      ]
    },
    {
      "cell_type": "markdown",
      "metadata": {
        "id": "Pxg_ry70xFQ7"
      },
      "source": [
        "Los pasos también pueden ser negativos, y cuando esto sucede, el inicio y final son intercambiados."
      ]
    },
    {
      "cell_type": "code",
      "execution_count": null,
      "metadata": {
        "id": "VHl9U_9wxFQ7"
      },
      "outputs": [],
      "source": [
        "#Imprimir nuevamente el arreglo\n",
        "print(arr)"
      ]
    },
    {
      "cell_type": "code",
      "execution_count": null,
      "metadata": {
        "id": "yYh12GrixFQ7"
      },
      "outputs": [],
      "source": [
        "#Seleccionar desde el penúltimo elemento hasta el 3er elemento \n",
        "arr[-2:1:-1]"
      ]
    },
    {
      "cell_type": "code",
      "execution_count": null,
      "metadata": {
        "id": "EF0T-hMFxFQ8"
      },
      "outputs": [],
      "source": [
        "#Invertir todos los elementos\n",
        "arr[::-1]"
      ]
    },
    {
      "cell_type": "markdown",
      "metadata": {
        "id": "mvIYJGt_xFQ8"
      },
      "source": [
        "### Arreglos bidimensionales"
      ]
    },
    {
      "cell_type": "code",
      "execution_count": null,
      "metadata": {
        "id": "FQqgPiRxxFQ8"
      },
      "outputs": [],
      "source": [
        "# Construir un arreglo bidimensional aleatorio de forma (4,3) que contenga valores del 1 al 9\n",
        "np.random.seed(0)\n",
        "matr = np.random.randint(1,9,size=(4,3))\n",
        "print(matr)"
      ]
    },
    {
      "cell_type": "code",
      "execution_count": null,
      "metadata": {
        "id": "-mTeKTB0xFQ9"
      },
      "outputs": [],
      "source": [
        "#Seleccionar la submatriz formada por las dos primeras filas y las dos primeras columnas\n",
        "matr[:2,:2]"
      ]
    },
    {
      "cell_type": "code",
      "execution_count": null,
      "metadata": {
        "id": "83byfC1mxFQ9"
      },
      "outputs": [],
      "source": [
        "#Selecciona la submatriz formada por las tres ultimas filas y las dos primeras columnas\n",
        "matr[1:,:2]"
      ]
    },
    {
      "cell_type": "code",
      "execution_count": null,
      "metadata": {
        "id": "_hIDgp1-xFQ9"
      },
      "outputs": [],
      "source": [
        "#Seleccionar la submatriz que tiene los valores de los renglones de dos en dos y todas las comunas\n",
        "matr[::2,:]"
      ]
    },
    {
      "cell_type": "code",
      "execution_count": null,
      "metadata": {
        "id": "cTWXEWG0xFQ9"
      },
      "outputs": [],
      "source": [
        "#Seleccionar el 3 renglón\n",
        "matr[2,:]"
      ]
    },
    {
      "cell_type": "code",
      "execution_count": null,
      "metadata": {
        "id": "dMSDTikoxFQ-"
      },
      "outputs": [],
      "source": [
        "#Seleccionar la 1ra columna\n",
        "matr[:,0]"
      ]
    },
    {
      "cell_type": "code",
      "execution_count": null,
      "metadata": {
        "id": "ex8TbiE3xFQ-"
      },
      "outputs": [],
      "source": [
        "#Para el caso de la selección de renglones, se puede usar esta notación mas compacta\n",
        "matr[2]"
      ]
    },
    {
      "cell_type": "markdown",
      "metadata": {
        "id": "jygwt3lsxFQ-"
      },
      "source": [
        "# Copias de arreglos\n",
        "Algo **importante** es el hecho de que las rebanadas regresan vistas y no copias de los arreglos. "
      ]
    },
    {
      "cell_type": "code",
      "execution_count": null,
      "metadata": {
        "id": "46_vT5YYxFQ-"
      },
      "outputs": [],
      "source": [
        "# Imprimir nuevamente la matriz\n",
        "print(matr)"
      ]
    },
    {
      "cell_type": "code",
      "execution_count": null,
      "metadata": {
        "id": "U2nF305BxFQ_"
      },
      "outputs": [],
      "source": [
        "#Seleccionar la submatriz formada por los últimos rengloes y las últimas dos columnas\n",
        "sub_matr=matr[2:,1:]\n",
        "print(sub_matr)"
      ]
    },
    {
      "cell_type": "code",
      "execution_count": null,
      "metadata": {
        "id": "_Dh-O28yxFRA"
      },
      "outputs": [],
      "source": [
        "#Modificar la submatriz\n",
        "sub_matr[0,0] = 0"
      ]
    },
    {
      "cell_type": "code",
      "execution_count": null,
      "metadata": {
        "id": "WWA-n5vIxFRB"
      },
      "outputs": [],
      "source": [
        "#Observar nuevamente el valor de la matriz original y ver que sucede\n",
        "print(matr)"
      ]
    },
    {
      "cell_type": "raw",
      "metadata": {
        "id": "OUlcuPhYxFRB"
      },
      "source": [
        "Si lo que necesitamos son copias, podemos utilizar el método 'copy()'"
      ]
    },
    {
      "cell_type": "code",
      "execution_count": null,
      "metadata": {
        "id": "6STZ54YLxFRC"
      },
      "outputs": [],
      "source": [
        "sub_matr_copy=matr[2:,1:].copy()\n",
        "print(sub_matr)"
      ]
    },
    {
      "cell_type": "code",
      "execution_count": null,
      "metadata": {
        "id": "Wl9iwD85xFRC"
      },
      "outputs": [],
      "source": [
        "sub_matr_copy[0,0] = 15"
      ]
    },
    {
      "cell_type": "code",
      "execution_count": null,
      "metadata": {
        "id": "6d95LbRExFRC"
      },
      "outputs": [],
      "source": [
        "print(matr)"
      ]
    },
    {
      "cell_type": "code",
      "execution_count": null,
      "metadata": {
        "id": "5NytIlMnxFRD"
      },
      "outputs": [],
      "source": [
        "import numpy as np\n",
        "import copy\n",
        "array = np.array([1,2,3,4])\n",
        "array2 = array.copy()\n",
        "array[0] = array[0] + 1\n",
        "print(array)\n",
        "print(array2)\n"
      ]
    },
    {
      "cell_type": "code",
      "execution_count": null,
      "metadata": {
        "id": "5TmaX71GxFRD"
      },
      "outputs": [],
      "source": []
    }
  ],
  "metadata": {
    "kernelspec": {
      "display_name": "Python 3 (ipykernel)",
      "language": "python",
      "name": "python3"
    },
    "language_info": {
      "codemirror_mode": {
        "name": "ipython",
        "version": 3
      },
      "file_extension": ".py",
      "mimetype": "text/x-python",
      "name": "python",
      "nbconvert_exporter": "python",
      "pygments_lexer": "ipython3",
      "version": "3.8.5"
    },
    "colab": {
      "provenance": [],
      "include_colab_link": true
    }
  },
  "nbformat": 4,
  "nbformat_minor": 0
}