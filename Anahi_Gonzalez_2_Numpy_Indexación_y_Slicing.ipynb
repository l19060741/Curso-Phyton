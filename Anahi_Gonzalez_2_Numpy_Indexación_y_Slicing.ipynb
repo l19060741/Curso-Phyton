{
  "cells": [
    {
      "cell_type": "markdown",
      "metadata": {
        "id": "view-in-github",
        "colab_type": "text"
      },
      "source": [
        "<a href=\"https://colab.research.google.com/github/l19060741/Curso-Phyton/blob/main/Anahi_Gonzalez_2_Numpy_Indexaci%C3%B3n_y_Slicing.ipynb\" target=\"_parent\"><img src=\"https://colab.research.google.com/assets/colab-badge.svg\" alt=\"Open In Colab\"/></a>"
      ]
    },
    {
      "cell_type": "markdown",
      "metadata": {
        "id": "2i-eA6e4xFQn"
      },
      "source": [
        "# Indexación y Slicing de arreglos Numpy\n",
        "\n",
        "Podemos acceder a elementos individuales de los arreglos, y también a grupos de elementos."
      ]
    },
    {
      "cell_type": "markdown",
      "metadata": {
        "id": "wnphJpQlxFQv"
      },
      "source": [
        "## Indexación: Acceder a elementos individuales"
      ]
    },
    {
      "cell_type": "code",
      "execution_count": null,
      "metadata": {
        "id": "Ud9ybBotxFQw"
      },
      "outputs": [],
      "source": [
        "# Cargar las bibliotecas necesarias\n",
        "import numpy as np"
      ]
    },
    {
      "cell_type": "code",
      "execution_count": null,
      "metadata": {
        "id": "oNPM7l_axFQy"
      },
      "outputs": [],
      "source": [
        "#Crear un arreglo con 10 enteros aleatorios\n",
        "np.random.seed(0)\n",
        "arr = np.random.randint(1,10, 10)"
      ]
    },
    {
      "cell_type": "code",
      "execution_count": null,
      "metadata": {
        "colab": {
          "base_uri": "https://localhost:8080/"
        },
        "id": "FlDIFFKKxFQy",
        "outputId": "af4cd317-3440-460c-a85a-cb706a75fc9d"
      },
      "outputs": [
        {
          "output_type": "stream",
          "name": "stdout",
          "text": [
            "[6 1 4 4 8 4 6 3 5 8]\n"
          ]
        }
      ],
      "source": [
        "print(arr)"
      ]
    },
    {
      "cell_type": "markdown",
      "metadata": {
        "id": "jA1gb6a2xFQy"
      },
      "source": [
        "Para acceder a los elementos del arreglo, usamos corchetes []"
      ]
    },
    {
      "cell_type": "code",
      "execution_count": null,
      "metadata": {
        "colab": {
          "base_uri": "https://localhost:8080/"
        },
        "id": "xqz9qiXGxFQz",
        "outputId": "6c7e443d-214a-4e1e-a334-a1b14a810b88"
      },
      "outputs": [
        {
          "output_type": "execute_result",
          "data": {
            "text/plain": [
              "4"
            ]
          },
          "metadata": {},
          "execution_count": 4
        }
      ],
      "source": [
        "\n",
        "# Si queremos seleccionar el emeneto con el índice 2, entonces usamos arr[2]\n",
        "arr[2]"
      ]
    },
    {
      "cell_type": "code",
      "execution_count": null,
      "metadata": {
        "colab": {
          "base_uri": "https://localhost:8080/"
        },
        "id": "YAXtZ9E3xFQz",
        "outputId": "cce74378-78e6-45c4-e232-ef6a863b8119"
      },
      "outputs": [
        {
          "output_type": "execute_result",
          "data": {
            "text/plain": [
              "6"
            ]
          },
          "metadata": {},
          "execution_count": 5
        }
      ],
      "source": [
        "#Para seleccionar el primer elemento\n",
        "arr[0]"
      ]
    },
    {
      "cell_type": "markdown",
      "metadata": {
        "id": "8Yr-V5EOxFQ0"
      },
      "source": [
        "Podemos indexar del final del arreglo al inicio usando índices negativos"
      ]
    },
    {
      "cell_type": "code",
      "execution_count": null,
      "metadata": {
        "colab": {
          "base_uri": "https://localhost:8080/"
        },
        "id": "0hYKkWyYxFQ0",
        "outputId": "ba45258e-b448-4e28-d7da-658901dde77e"
      },
      "outputs": [
        {
          "output_type": "execute_result",
          "data": {
            "text/plain": [
              "8"
            ]
          },
          "metadata": {},
          "execution_count": 6
        }
      ],
      "source": [
        "arr[-1]"
      ]
    },
    {
      "cell_type": "code",
      "execution_count": null,
      "metadata": {
        "colab": {
          "base_uri": "https://localhost:8080/"
        },
        "id": "R_-8Yu9wxFQ0",
        "outputId": "f992f952-61f2-4775-d5e2-23edb5fb1d1a"
      },
      "outputs": [
        {
          "output_type": "execute_result",
          "data": {
            "text/plain": [
              "3"
            ]
          },
          "metadata": {},
          "execution_count": 7
        }
      ],
      "source": [
        "arr[-3]"
      ]
    },
    {
      "cell_type": "markdown",
      "metadata": {
        "id": "x_H99b2txFQ0"
      },
      "source": [
        "En el caso de arreglos multidimensionales, accedemos a los elementos usando índices en tuplas separadas por coma"
      ]
    },
    {
      "cell_type": "code",
      "execution_count": null,
      "metadata": {
        "id": "bl5zW8CyxFQ1"
      },
      "outputs": [],
      "source": [
        "# Construir un arreglo bidimensional aleatorio de forma (3,4) que contenga valores del 0 al 10\n",
        "np.random.seed(0)\n",
        "matr = np.random.randint(0,10,size=(3,4))"
      ]
    },
    {
      "cell_type": "code",
      "execution_count": null,
      "metadata": {
        "colab": {
          "base_uri": "https://localhost:8080/"
        },
        "id": "cNSBScd_xFQ1",
        "outputId": "f45658c7-64b3-4515-df28-5cbc3b160a97"
      },
      "outputs": [
        {
          "output_type": "stream",
          "name": "stdout",
          "text": [
            "[[5 0 3 3]\n",
            " [7 9 3 5]\n",
            " [2 4 7 6]]\n"
          ]
        }
      ],
      "source": [
        "print(matr)"
      ]
    },
    {
      "cell_type": "code",
      "execution_count": null,
      "metadata": {
        "id": "RGdyscsaxFQ1",
        "outputId": "85cdb7ec-0e1f-4bcf-e059-ab028d933841",
        "colab": {
          "base_uri": "https://localhost:8080/"
        }
      },
      "outputs": [
        {
          "output_type": "execute_result",
          "data": {
            "text/plain": [
              "5"
            ]
          },
          "metadata": {},
          "execution_count": 10
        }
      ],
      "source": [
        "#Para seleccionar el primer elmento\n",
        "matr[0,0]"
      ]
    },
    {
      "cell_type": "code",
      "execution_count": null,
      "metadata": {
        "colab": {
          "base_uri": "https://localhost:8080/"
        },
        "id": "5DOkW3ukxFQ2",
        "outputId": "2fbd010d-b1c2-46ae-c7ab-6dbb5c951af6"
      },
      "outputs": [
        {
          "output_type": "execute_result",
          "data": {
            "text/plain": [
              "3"
            ]
          },
          "metadata": {},
          "execution_count": 11
        }
      ],
      "source": [
        "#Para seleccionar otro elemento\n",
        "matr[1,2]"
      ]
    },
    {
      "cell_type": "code",
      "execution_count": null,
      "metadata": {
        "colab": {
          "base_uri": "https://localhost:8080/"
        },
        "id": "WfYaibeIxFQ2",
        "outputId": "2ccdc649-2c83-481f-ae48-5272cff814b5"
      },
      "outputs": [
        {
          "output_type": "execute_result",
          "data": {
            "text/plain": [
              "2"
            ]
          },
          "metadata": {},
          "execution_count": 12
        }
      ],
      "source": [
        "#Para seleccionar elementos usando índices negativos\n",
        "matr[-1,0]"
      ]
    },
    {
      "cell_type": "markdown",
      "metadata": {
        "id": "R-UHGbg_xFQ2"
      },
      "source": [
        "También es posible modificar valores individuales usando la indexación mostrada. Cabe mencionar que a diferencia de las listas, los arreglos Numpy tienen un tipo fijo, y si quieres insertar un valor flotante en un arreglo e enteros, esto ocasionara que sea truncado (silenciosamente)."
      ]
    },
    {
      "cell_type": "code",
      "execution_count": null,
      "metadata": {
        "id": "sUfTXY3OxFQ2"
      },
      "outputs": [],
      "source": [
        "matr[0,1]=11"
      ]
    },
    {
      "cell_type": "code",
      "execution_count": null,
      "metadata": {
        "colab": {
          "base_uri": "https://localhost:8080/"
        },
        "id": "HeG17SwvxFQ3",
        "outputId": "b57ada5c-7df0-44ae-e022-80fca692b8b0"
      },
      "outputs": [
        {
          "output_type": "stream",
          "name": "stdout",
          "text": [
            "[[ 5 11  3  3]\n",
            " [ 7  9  3  5]\n",
            " [ 2  4  7  6]]\n"
          ]
        }
      ],
      "source": [
        "print(matr)"
      ]
    },
    {
      "cell_type": "code",
      "execution_count": null,
      "metadata": {
        "colab": {
          "base_uri": "https://localhost:8080/"
        },
        "id": "IeBbtbIixFQ3",
        "outputId": "5b9e3913-bda8-40f6-83e4-81526b00beb3"
      },
      "outputs": [
        {
          "output_type": "stream",
          "name": "stdout",
          "text": [
            "[[ 5 11  3  3]\n",
            " [ 7  9  3  3]\n",
            " [ 2  4  7  6]]\n"
          ]
        }
      ],
      "source": [
        "matr[1,3] = 3.1416\n",
        "print(matr)"
      ]
    },
    {
      "cell_type": "markdown",
      "metadata": {
        "id": "8pGjiUdLxFQ3"
      },
      "source": [
        "# Slicing: Accediendo a subarreglos\n",
        "\n",
        "Para acceder a subarreglos utilizamos una notación especial que hace uso del caracter 'dos puntos' (:). Para obtener el subarreglo (rebanada o slice en inglés) se utiliza lo siguiente:\n",
        "\n",
        "arr[inicio:final:paso]\n",
        "\n",
        "En dado caso que no se especifiquen, los valores por default son:\n",
        "\n",
        "- inicio=0\n",
        "- final=tamaño de la dimensión\n",
        "- paso=1"
      ]
    },
    {
      "cell_type": "markdown",
      "metadata": {
        "id": "XwAWEqufxFQ4"
      },
      "source": [
        "### Arreglos unidimensionales"
      ]
    },
    {
      "cell_type": "code",
      "execution_count": null,
      "metadata": {
        "colab": {
          "base_uri": "https://localhost:8080/"
        },
        "id": "Yn3FM-5RxFQ5",
        "outputId": "d136200f-918a-4a2d-84dc-d1fc539e8038"
      },
      "outputs": [
        {
          "output_type": "execute_result",
          "data": {
            "text/plain": [
              "array([1, 4, 4, 8, 4, 6, 3, 5])"
            ]
          },
          "metadata": {},
          "execution_count": 16
        }
      ],
      "source": [
        "#Otra forma de hacerlo\n",
        "arr[1:-1]"
      ]
    },
    {
      "cell_type": "code",
      "execution_count": null,
      "metadata": {
        "colab": {
          "base_uri": "https://localhost:8080/"
        },
        "id": "Zycyev_UxFQ6",
        "outputId": "021c8be2-f749-4620-f2ac-9a775e1789c0"
      },
      "outputs": [
        {
          "output_type": "execute_result",
          "data": {
            "text/plain": [
              "array([6, 1, 4, 4, 8])"
            ]
          },
          "metadata": {},
          "execution_count": 17
        }
      ],
      "source": [
        "#Obtener los primeros 4 elementos\n",
        "arr[:5]"
      ]
    },
    {
      "cell_type": "code",
      "execution_count": null,
      "metadata": {
        "colab": {
          "base_uri": "https://localhost:8080/"
        },
        "id": "4mfg3ogbxFQ7",
        "outputId": "7e560fe3-856d-41d2-fad7-4e9662466222"
      },
      "outputs": [
        {
          "output_type": "execute_result",
          "data": {
            "text/plain": [
              "array([4, 6, 3, 5, 8])"
            ]
          },
          "metadata": {},
          "execution_count": 18
        }
      ],
      "source": [
        "#Seleccionar los elementos después del índice 5\n",
        "arr[5:]"
      ]
    },
    {
      "cell_type": "code",
      "execution_count": null,
      "metadata": {
        "colab": {
          "base_uri": "https://localhost:8080/"
        },
        "id": "syX_Q16ZxFQ7",
        "outputId": "b6d18dea-bad6-4278-d25c-4d79b78e8c24"
      },
      "outputs": [
        {
          "output_type": "execute_result",
          "data": {
            "text/plain": [
              "array([1, 4, 4, 3, 8])"
            ]
          },
          "metadata": {},
          "execution_count": 19
        }
      ],
      "source": [
        "#Seleccionar desde el índice 1 hasta el final, tomando valores de dos en dos\n",
        "arr[1::2]"
      ]
    },
    {
      "cell_type": "markdown",
      "metadata": {
        "id": "Pxg_ry70xFQ7"
      },
      "source": [
        "Los pasos también pueden ser negativos, y cuando esto sucede, el inicio y final son intercambiados."
      ]
    },
    {
      "cell_type": "code",
      "execution_count": null,
      "metadata": {
        "colab": {
          "base_uri": "https://localhost:8080/"
        },
        "id": "rWIK-tV0xFQ5",
        "outputId": "c2494e07-1f86-4a03-d2cc-1a7d6fde9b9b"
      },
      "outputs": [
        {
          "output_type": "execute_result",
          "data": {
            "text/plain": [
              "array([1, 4, 4, 8, 4, 6, 3, 5])"
            ]
          },
          "metadata": {},
          "execution_count": 20
        }
      ],
      "source": [
        "# Seleccionar desde el segundo elemento hasta el penúltimo para conseguir este subarreglo [8 6 1 4 4 4 8 2]\n",
        "arr[1:9]"
      ]
    },
    {
      "cell_type": "code",
      "execution_count": null,
      "metadata": {
        "colab": {
          "base_uri": "https://localhost:8080/"
        },
        "id": "VHl9U_9wxFQ7",
        "outputId": "ec76e6d8-74e2-414f-d9aa-74540ad3bed8"
      },
      "outputs": [
        {
          "output_type": "stream",
          "name": "stdout",
          "text": [
            "[6 1 4 4 8 4 6 3 5 8]\n"
          ]
        }
      ],
      "source": [
        "#Imprimir nuevamente el arreglo\n",
        "print(arr)"
      ]
    },
    {
      "cell_type": "code",
      "execution_count": null,
      "metadata": {
        "colab": {
          "base_uri": "https://localhost:8080/"
        },
        "id": "6n25qDNwxFQ5",
        "outputId": "a00e30e8-2aa1-4735-bf58-41bd39153002"
      },
      "outputs": [
        {
          "output_type": "stream",
          "name": "stdout",
          "text": [
            "[5 8 6 1 4 4 4 8 2 4]\n"
          ]
        }
      ],
      "source": [
        "# Construir un arreglo unidimensional aleatorio que contenga 10 valores del 1 al 9\n",
        "np.random.seed(0)\n",
        "arr = np.random.randint(1,9,10)\n",
        "print(arr)\n"
      ]
    },
    {
      "cell_type": "code",
      "execution_count": null,
      "metadata": {
        "colab": {
          "base_uri": "https://localhost:8080/"
        },
        "id": "yYh12GrixFQ7",
        "outputId": "21089536-6e66-48aa-b761-93247d1c24b1"
      },
      "outputs": [
        {
          "output_type": "execute_result",
          "data": {
            "text/plain": [
              "array([2, 8, 4, 4, 4, 1, 6])"
            ]
          },
          "metadata": {},
          "execution_count": 23
        }
      ],
      "source": [
        "#Seleccionar desde el penúltimo elemento hasta el 3er elemento \n",
        "arr[-2:1:-1]"
      ]
    },
    {
      "cell_type": "code",
      "execution_count": null,
      "metadata": {
        "colab": {
          "base_uri": "https://localhost:8080/"
        },
        "id": "EF0T-hMFxFQ8",
        "outputId": "003455f7-b274-458b-8699-b3b70f49afb5"
      },
      "outputs": [
        {
          "output_type": "execute_result",
          "data": {
            "text/plain": [
              "array([4, 2, 8, 4, 4, 4, 1, 6, 8, 5])"
            ]
          },
          "metadata": {},
          "execution_count": 24
        }
      ],
      "source": [
        "#Invertir todos los elementos\n",
        "arr[::-1]"
      ]
    },
    {
      "cell_type": "markdown",
      "metadata": {
        "id": "mvIYJGt_xFQ8"
      },
      "source": [
        "### Arreglos bidimensionales"
      ]
    },
    {
      "cell_type": "code",
      "execution_count": null,
      "metadata": {
        "colab": {
          "base_uri": "https://localhost:8080/"
        },
        "id": "FQqgPiRxxFQ8",
        "outputId": "2e03f211-2628-424c-9607-34ec20092a39"
      },
      "outputs": [
        {
          "output_type": "stream",
          "name": "stdout",
          "text": [
            "[[5 8 6]\n",
            " [1 4 4]\n",
            " [4 8 2]\n",
            " [4 6 3]]\n"
          ]
        }
      ],
      "source": [
        "# Construir un arreglo bidimensional aleatorio de forma (4,3) que contenga valores del 1 al 9\n",
        "np.random.seed(0)\n",
        "matr = np.random.randint(1,9,size=(4,3))\n",
        "print(matr)"
      ]
    },
    {
      "cell_type": "code",
      "execution_count": null,
      "metadata": {
        "colab": {
          "base_uri": "https://localhost:8080/"
        },
        "id": "-mTeKTB0xFQ9",
        "outputId": "aa7266f0-2936-492e-8e5e-73dceaefb5de"
      },
      "outputs": [
        {
          "output_type": "execute_result",
          "data": {
            "text/plain": [
              "array([[5, 8],\n",
              "       [1, 4]])"
            ]
          },
          "metadata": {},
          "execution_count": 26
        }
      ],
      "source": [
        "#Seleccionar la submatriz formada por las dos primeras filas y las dos primeras columnas\n",
        "matr[:2,:2]"
      ]
    },
    {
      "cell_type": "code",
      "execution_count": null,
      "metadata": {
        "colab": {
          "base_uri": "https://localhost:8080/"
        },
        "id": "83byfC1mxFQ9",
        "outputId": "c4366298-a034-4b3c-ac15-3d8272a4cdbc"
      },
      "outputs": [
        {
          "output_type": "execute_result",
          "data": {
            "text/plain": [
              "array([[1, 4],\n",
              "       [4, 8],\n",
              "       [4, 6]])"
            ]
          },
          "metadata": {},
          "execution_count": 27
        }
      ],
      "source": [
        "#Selecciona la submatriz formada por las tres ultimas filas y las dos primeras columnas\n",
        "matr[1:,:2]"
      ]
    },
    {
      "cell_type": "code",
      "execution_count": null,
      "metadata": {
        "colab": {
          "base_uri": "https://localhost:8080/"
        },
        "id": "_hIDgp1-xFQ9",
        "outputId": "116c9e42-ae08-477e-8b74-74e8574cc5b7"
      },
      "outputs": [
        {
          "output_type": "execute_result",
          "data": {
            "text/plain": [
              "array([[5, 8, 6],\n",
              "       [4, 8, 2]])"
            ]
          },
          "metadata": {},
          "execution_count": 28
        }
      ],
      "source": [
        "#Seleccionar la submatriz que tiene los valores de los renglones de dos en dos y todas las comunas\n",
        "matr[::2,:]"
      ]
    },
    {
      "cell_type": "code",
      "execution_count": null,
      "metadata": {
        "colab": {
          "base_uri": "https://localhost:8080/"
        },
        "id": "cTWXEWG0xFQ9",
        "outputId": "8900ea0c-f49e-46ad-bf02-1f49ee7d3db5"
      },
      "outputs": [
        {
          "output_type": "execute_result",
          "data": {
            "text/plain": [
              "array([4, 8, 2])"
            ]
          },
          "metadata": {},
          "execution_count": 29
        }
      ],
      "source": [
        "#Seleccionar el 3 renglón\n",
        "matr[2,:]"
      ]
    },
    {
      "cell_type": "code",
      "execution_count": null,
      "metadata": {
        "colab": {
          "base_uri": "https://localhost:8080/"
        },
        "id": "dMSDTikoxFQ-",
        "outputId": "26900bf8-df16-4745-85da-ac86647c2048"
      },
      "outputs": [
        {
          "output_type": "execute_result",
          "data": {
            "text/plain": [
              "array([5, 1, 4, 4])"
            ]
          },
          "metadata": {},
          "execution_count": 30
        }
      ],
      "source": [
        "#Seleccionar la 1ra columna\n",
        "matr[:,0]"
      ]
    },
    {
      "cell_type": "code",
      "execution_count": null,
      "metadata": {
        "colab": {
          "base_uri": "https://localhost:8080/"
        },
        "id": "ex8TbiE3xFQ-",
        "outputId": "4ee5ca10-85e7-482b-ba51-7371369b4d15"
      },
      "outputs": [
        {
          "output_type": "execute_result",
          "data": {
            "text/plain": [
              "array([4, 8, 2])"
            ]
          },
          "metadata": {},
          "execution_count": 31
        }
      ],
      "source": [
        "#Para el caso de la selección de renglones, se puede usar esta notación mas compacta\n",
        "matr[2]"
      ]
    },
    {
      "cell_type": "code",
      "source": [
        "#Para el caso de la selección de elemento\n",
        "matr[2][1]"
      ],
      "metadata": {
        "colab": {
          "base_uri": "https://localhost:8080/"
        },
        "id": "q-Lqx52043t9",
        "outputId": "25ea56d5-21b0-44f5-8cfb-a70138f0311b"
      },
      "execution_count": null,
      "outputs": [
        {
          "output_type": "execute_result",
          "data": {
            "text/plain": [
              "8"
            ]
          },
          "metadata": {},
          "execution_count": 32
        }
      ]
    },
    {
      "cell_type": "markdown",
      "metadata": {
        "id": "jygwt3lsxFQ-"
      },
      "source": [
        "# Copias de arreglos\n",
        "Algo **importante** es el hecho de que las rebanadas regresan vistas y no copias de los arreglos. "
      ]
    },
    {
      "cell_type": "code",
      "execution_count": null,
      "metadata": {
        "colab": {
          "base_uri": "https://localhost:8080/"
        },
        "id": "46_vT5YYxFQ-",
        "outputId": "3d9db635-9bd6-4e66-9719-583da17053e2"
      },
      "outputs": [
        {
          "output_type": "stream",
          "name": "stdout",
          "text": [
            "[[5 8 6]\n",
            " [1 4 4]\n",
            " [4 8 2]\n",
            " [4 6 3]]\n"
          ]
        }
      ],
      "source": [
        "# Imprimir nuevamente la matriz\n",
        "print(matr)"
      ]
    },
    {
      "cell_type": "code",
      "execution_count": null,
      "metadata": {
        "colab": {
          "base_uri": "https://localhost:8080/"
        },
        "id": "U2nF305BxFQ_",
        "outputId": "bc2a7512-c18f-476e-b133-8b398e817b07"
      },
      "outputs": [
        {
          "output_type": "stream",
          "name": "stdout",
          "text": [
            "[[8 2]\n",
            " [6 3]]\n"
          ]
        }
      ],
      "source": [
        "#Seleccionar la submatriz formada por los últimos rengloes y las últimas dos columnas\n",
        "sub_matr=matr[2:,1:]\n",
        "print(sub_matr)"
      ]
    },
    {
      "cell_type": "code",
      "execution_count": null,
      "metadata": {
        "id": "_Dh-O28yxFRA"
      },
      "outputs": [],
      "source": [
        "#Modificar la submatriz\n",
        "sub_matr[0,0] = 0"
      ]
    },
    {
      "cell_type": "code",
      "execution_count": null,
      "metadata": {
        "colab": {
          "base_uri": "https://localhost:8080/"
        },
        "id": "WWA-n5vIxFRB",
        "outputId": "7b00087f-8bdd-4c49-c57e-01fd8269b1a1"
      },
      "outputs": [
        {
          "output_type": "stream",
          "name": "stdout",
          "text": [
            "[[5 8 6]\n",
            " [1 4 4]\n",
            " [4 0 2]\n",
            " [4 6 3]]\n"
          ]
        }
      ],
      "source": [
        "#Observar nuevamente el valor de la matriz original y ver que sucede\n",
        "print(matr)"
      ]
    },
    {
      "cell_type": "raw",
      "metadata": {
        "id": "OUlcuPhYxFRB"
      },
      "source": [
        "Si lo que necesitamos son copias, podemos utilizar el método 'copy()'"
      ]
    },
    {
      "cell_type": "code",
      "execution_count": null,
      "metadata": {
        "colab": {
          "base_uri": "https://localhost:8080/"
        },
        "id": "6STZ54YLxFRC",
        "outputId": "94bf8d1d-993f-4339-c188-152d81301489"
      },
      "outputs": [
        {
          "output_type": "stream",
          "name": "stdout",
          "text": [
            "[[0 2]\n",
            " [6 3]]\n"
          ]
        }
      ],
      "source": [
        "sub_matr_copy=matr[2:,1:].copy()\n",
        "print(sub_matr)"
      ]
    },
    {
      "cell_type": "code",
      "execution_count": null,
      "metadata": {
        "id": "Wl9iwD85xFRC"
      },
      "outputs": [],
      "source": [
        "sub_matr_copy[0,0] = 15"
      ]
    },
    {
      "cell_type": "code",
      "execution_count": null,
      "metadata": {
        "colab": {
          "base_uri": "https://localhost:8080/"
        },
        "id": "6d95LbRExFRC",
        "outputId": "8ab3a635-60df-419c-a772-4f74f5e25006"
      },
      "outputs": [
        {
          "output_type": "stream",
          "name": "stdout",
          "text": [
            "[[5 8 6]\n",
            " [1 4 4]\n",
            " [4 0 2]\n",
            " [4 6 3]]\n"
          ]
        }
      ],
      "source": [
        "print(matr)"
      ]
    },
    {
      "cell_type": "code",
      "execution_count": null,
      "metadata": {
        "colab": {
          "base_uri": "https://localhost:8080/"
        },
        "id": "5NytIlMnxFRD",
        "outputId": "365af536-c729-4b0a-9a3e-d3b2d7dd0e4c"
      },
      "outputs": [
        {
          "output_type": "stream",
          "name": "stdout",
          "text": [
            "[2 2 3 4]\n",
            "[1 2 3 4]\n"
          ]
        }
      ],
      "source": [
        "import numpy as np\n",
        "import copy\n",
        "array = np.array([1,2,3,4])\n",
        "array2 = array.copy()\n",
        "array[0] = array[0] + 1\n",
        "print(array)\n",
        "print(array2)\n"
      ]
    },
    {
      "cell_type": "code",
      "execution_count": null,
      "metadata": {
        "id": "5TmaX71GxFRD"
      },
      "outputs": [],
      "source": []
    }
  ],
  "metadata": {
    "kernelspec": {
      "display_name": "Python 3 (ipykernel)",
      "language": "python",
      "name": "python3"
    },
    "language_info": {
      "codemirror_mode": {
        "name": "ipython",
        "version": 3
      },
      "file_extension": ".py",
      "mimetype": "text/x-python",
      "name": "python",
      "nbconvert_exporter": "python",
      "pygments_lexer": "ipython3",
      "version": "3.8.5"
    },
    "colab": {
      "provenance": [],
      "include_colab_link": true
    }
  },
  "nbformat": 4,
  "nbformat_minor": 0
}