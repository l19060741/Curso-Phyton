{
  "cells": [
    {
      "cell_type": "markdown",
      "metadata": {
        "id": "view-in-github",
        "colab_type": "text"
      },
      "source": [
        "<a href=\"https://colab.research.google.com/github/l19060741/Curso-Phyton/blob/main/Anahi_Gonzalez_Naive_Bayes.ipynb\" target=\"_parent\"><img src=\"https://colab.research.google.com/assets/colab-badge.svg\" alt=\"Open In Colab\"/></a>"
      ]
    },
    {
      "cell_type": "markdown",
      "metadata": {
        "id": "8XGhokNjAB28"
      },
      "source": [
        "# Naive Bayes\n",
        "\n",
        "Notebook elaborado por:\n",
        "\n",
        "Dra. Jessica Beltrán Márquez\n",
        "\n",
        "Centro de Investigación en Matemáticas Aplicadas\n",
        "\n",
        "Universidad Autónoma de Coahuila\n",
        "\n",
        "Noviembre 2022"
      ]
    },
    {
      "cell_type": "code",
      "execution_count": null,
      "metadata": {
        "id": "fYzhUimkAB3K"
      },
      "outputs": [],
      "source": [
        "#Importamos las bibliotecas que vamos a utilizar\n",
        "import math\n",
        "import random\n",
        "import pandas as pd\n",
        "import numpy as np"
      ]
    },
    {
      "cell_type": "code",
      "execution_count": null,
      "metadata": {
        "id": "JXq-Sp9rAB3O"
      },
      "outputs": [],
      "source": [
        "# Nombre del archivo csv con el conjunto de datos\n",
        "dataset_filename = 'irisDataset.csv'    \n",
        "# Cargar los datos a un dataframe pandas\n",
        "dataset = pd.read_csv(dataset_filename)\n",
        "dataset.head()"
      ]
    },
    {
      "cell_type": "code",
      "execution_count": null,
      "metadata": {
        "id": "Jkvk8aIXAB3Q"
      },
      "outputs": [],
      "source": [
        "#Separar en datos de entrenamiento y de prueba\n",
        "train_set = dataset.sample(frac = 0.7 , random_state = 0) #Tomar una muestra del conjunto completo\n",
        "print(\"Train shape is \", train_set.shape)\n",
        "test_set = dataset.drop(train_set.index)     #Tomar el complemento de la muestra \n",
        "print(\"Test shape is  \", test_set.shape)\n"
      ]
    },
    {
      "cell_type": "code",
      "execution_count": null,
      "metadata": {
        "id": "BHAoXXnQAB3R"
      },
      "outputs": [],
      "source": [
        "#Obtener las clases de flores a partir de la última columna\n",
        "classes = dataset.iloc[:,-1].unique()\n",
        "print(classes)"
      ]
    },
    {
      "cell_type": "code",
      "execution_count": null,
      "metadata": {
        "id": "igIMiWtyAB3S"
      },
      "outputs": [],
      "source": [
        "#Esta función obtiene la media y la desviación estándar del dataframe que recibe. \n",
        "# Lo hace sobre el primer eje\n",
        "# Nos sirve para conocer los parámetros de las distribuciones Gaussianas de cada clase\n",
        "def GaussianParametersFeatures(data):\n",
        "    means = data.mean(axis = 0) \n",
        "    stds = data.std(axis = 0) \n",
        "    return means,stds"
      ]
    },
    {
      "cell_type": "code",
      "execution_count": null,
      "metadata": {
        "id": "jX0TpoD9AB3U"
      },
      "outputs": [],
      "source": [
        "# Aplicamos la función sobre nuestro conjunto de datos y obtenemos los promedios y desviaciones estándar \n",
        "(means,stds) = GaussianParametersFeatures(dataset[[\"sepal_length\", \"sepal_width\",\"petal_length\", \"petal_width\"]])  #No seleccionamos la última columna\n",
        "print(means)"
      ]
    },
    {
      "cell_type": "code",
      "execution_count": null,
      "metadata": {
        "id": "zzFPBnaEAB3X"
      },
      "outputs": [],
      "source": [
        "dataset.iloc[:,:-1]  #Esta es otra forma de no seleccionar la última columna"
      ]
    },
    {
      "cell_type": "markdown",
      "metadata": {
        "id": "Iu5Wx7noAB3Z"
      },
      "source": [
        "# Entrenamiento\n",
        "\n",
        "Como se vio, con Naive Bayes se entrena un módelo por cada clase\n",
        "\n",
        "Este modelo se entrena conociendo las probabilidades a priori y las distribuciones de clase\n",
        "\n",
        "\n",
        "Veamos un ejemplo considerando la clase setosa"
      ]
    },
    {
      "cell_type": "code",
      "execution_count": null,
      "metadata": {
        "id": "Vf67QzhNAB3b"
      },
      "outputs": [],
      "source": [
        "#Primero extraemos solo la información que corresponde a las flores de tipo setosa\n",
        "train_set_setosa = train_set.loc[train_set.iloc[:,-1] == classes[0]]\n",
        "print(train_set_setosa)"
      ]
    },
    {
      "cell_type": "code",
      "execution_count": null,
      "metadata": {
        "id": "grTZ9iBRAB3e"
      },
      "outputs": [],
      "source": [
        "#Obtenemos las medias y desviaciones estándar de cada característica, lo que nos sirve para describir la distribución Gaussiana\n",
        "(means,stds) = GaussianParametersFeatures(train_set_setosa[[\"sepal_length\", \"sepal_width\",\"petal_length\", \"petal_width\"]])\n",
        "print(means)\n",
        "print(stds)"
      ]
    },
    {
      "cell_type": "code",
      "execution_count": null,
      "metadata": {
        "id": "HklM1nDeAB3f"
      },
      "outputs": [],
      "source": [
        "#Entrenamiento\n",
        "#Ahora lo hacemos para las 3 clases distintas: ['setosa' 'versicolor' 'virginica']\n",
        "#Almacenamos el modelo en un diccionario llamado summaries\n",
        "summaries = dict()\n",
        "for className in classes:\n",
        "    #summaries['classNames'] = classes[i]\n",
        "    data_subset_class = train_set.loc[train_set.iloc[:,-1] == className]\n",
        "    prior = len(data_subset_class)/len(train_set)              #<- Probabilidad priori\n",
        "    (means,stds) = GaussianParametersFeatures(data_subset_class.iloc[:,:-1])\n",
        "    summaries[className] = (prior,means,stds)"
      ]
    },
    {
      "cell_type": "code",
      "execution_count": null,
      "metadata": {
        "id": "j03jFNjqAB3g"
      },
      "outputs": [],
      "source": [
        "print(summaries)"
      ]
    },
    {
      "cell_type": "code",
      "execution_count": null,
      "metadata": {
        "id": "7MoT2BJCAB3h"
      },
      "outputs": [],
      "source": [
        "def get_likelihood_normal_distribution(X,mu=0,sigma=1):\n",
        "  #Calculo de p(x_w) en cada característica\n",
        "  p_x_w=np.divide(1,(np.sqrt(2*math.pi)*sigma)) * np.exp(-1/2* np.divide(np.power(X-mu, 2),np.multiply(sigma, sigma)))\n",
        "  return(p_x_w)"
      ]
    },
    {
      "cell_type": "code",
      "execution_count": null,
      "metadata": {
        "id": "DVFcahWaAB3i"
      },
      "outputs": [],
      "source": [
        "#Este código es solo para probar la función, en este caso con solo una característica\n",
        "p_x_w = get_likelihood_normal_distribution(4,mu=means[1],sigma=stds[1])\n",
        "print(p_x_w)"
      ]
    },
    {
      "cell_type": "code",
      "execution_count": null,
      "metadata": {
        "id": "jVW0do8zAB3i"
      },
      "outputs": [],
      "source": [
        "#Este código es solo para probar la función, en este caso con varias características\n",
        "p_x_w = get_likelihood_normal_distribution([5.5, 3, 5, 1],mu=means,sigma=stds)\n",
        "print(p_x_w)"
      ]
    },
    {
      "cell_type": "code",
      "execution_count": null,
      "metadata": {
        "id": "Hg3cK3FWAB3j"
      },
      "outputs": [],
      "source": [
        "#Debido a que estamos suponiendo independencia\n",
        "np.prod(p_x_w)"
      ]
    },
    {
      "cell_type": "code",
      "execution_count": null,
      "metadata": {
        "id": "WlO4U8XZAB3j"
      },
      "outputs": [],
      "source": [
        "#Aplicamos bayes\n",
        "probs = dict()\n",
        "def evaluateSample(sample,summaries,classes):\n",
        "    for className in classes:\n",
        "        (prior,means,stds) = summaries[className]\n",
        "        p_x_w = get_likelihood_normal_distribution(sample,mu=means,sigma=stds)\n",
        "        probs[className] = np.prod(p_x_w)*prior\n",
        "    return max(probs, key=probs.get)\n",
        "    "
      ]
    },
    {
      "cell_type": "code",
      "execution_count": null,
      "metadata": {
        "id": "csygxp1pAB3k"
      },
      "outputs": [],
      "source": [
        "#Evaluamos sobre un vector\n",
        "evaluateSample([5, 3, 2, 0.3],summaries,classes)\n",
        "\n",
        "\n"
      ]
    },
    {
      "cell_type": "code",
      "execution_count": null,
      "metadata": {
        "id": "8ZzCnVZQAB3l"
      },
      "outputs": [],
      "source": [
        "#Evaluar un solo ejemplo del testdata\n",
        "sample=np.array(test_set.iloc[20][0:-1].values.tolist())\n",
        "evaluateSample(sample,summaries,classes)\n"
      ]
    },
    {
      "cell_type": "code",
      "execution_count": null,
      "metadata": {
        "id": "5xdXPcb8AB3l"
      },
      "outputs": [],
      "source": [
        "#Evaluar todos los ejemplos del testdata\n",
        "for row in range(test_set.shape[0]):\n",
        "    sample=np.array(test_set.iloc[row][0:-1].values.tolist())\n",
        "    class_sample = test_set.iloc[row][-1]  \n",
        "    class_predicted = evaluateSample(sample,summaries,classes)\n",
        "    print(\"Real: \", class_sample, \", Predicted: \", class_predicted)"
      ]
    },
    {
      "cell_type": "code",
      "execution_count": null,
      "metadata": {
        "id": "1-GHLeQXAB3m"
      },
      "outputs": [],
      "source": []
    },
    {
      "cell_type": "code",
      "execution_count": null,
      "metadata": {
        "id": "ZlQodUd-AB3m"
      },
      "outputs": [],
      "source": []
    }
  ],
  "metadata": {
    "kernelspec": {
      "display_name": "Python 3.9.12 ('base')",
      "language": "python",
      "name": "python3"
    },
    "language_info": {
      "codemirror_mode": {
        "name": "ipython",
        "version": 3
      },
      "file_extension": ".py",
      "mimetype": "text/x-python",
      "name": "python",
      "nbconvert_exporter": "python",
      "pygments_lexer": "ipython3",
      "version": "3.9.12"
    },
    "vscode": {
      "interpreter": {
        "hash": "807f89556be232cec2a18d9223a5637cebf4bf294ef4691a50d73d3ccaece48f"
      }
    },
    "colab": {
      "provenance": [],
      "include_colab_link": true
    }
  },
  "nbformat": 4,
  "nbformat_minor": 0
}